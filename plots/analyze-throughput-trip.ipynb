{
 "cells": [
  {
   "cell_type": "code",
   "execution_count": 1,
   "id": "unexpected-compound",
   "metadata": {},
   "outputs": [
    {
     "data": {
      "text/html": [
       "<style>.container { width:100% !important; }</style>"
      ],
      "text/plain": [
       "<IPython.core.display.HTML object>"
      ]
     },
     "metadata": {},
     "output_type": "display_data"
    },
    {
     "data": {
      "text/html": [
       "<style>div.output_scroll { height: 44em; }</style>"
      ],
      "text/plain": [
       "<IPython.core.display.HTML object>"
      ]
     },
     "metadata": {},
     "output_type": "display_data"
    }
   ],
   "source": [
    "import pandas as pd\n",
    "import numpy as np\n",
    "import glob\n",
    "import os\n",
    "\n",
    "from IPython.core.display import display, HTML\n",
    "display(HTML(\"<style>.container { width:100% !important; }</style>\"))\n",
    "display(HTML(\"<style>div.output_scroll { height: 44em; }</style>\"))"
   ]
  },
  {
   "cell_type": "code",
   "execution_count": 2,
   "id": "august-point",
   "metadata": {},
   "outputs": [],
   "source": [
    "def get_meta(path):\n",
    "    props = os.path.splitext(os.path.basename(path))[0].split('_')\n",
    "    values = [int(x[1:]) for x in props[1:]]\n",
    "\n",
    "    return {'max_value':values[0],\n",
    "            'threads':values[1],\n",
    "            'input_size_approx':values[2],\n",
    "            'repeats':values[3]}"
   ]
  },
  {
   "cell_type": "code",
   "execution_count": 3,
   "id": "blank-affair",
   "metadata": {},
   "outputs": [],
   "source": [
    "def load(file):\n",
    "    \"\"\"Load the experiment data from a CSV file with converter metrics.\"\"\"\n",
    "        \n",
    "    schema = {\n",
    "        'num_threads': np.int64(),\n",
    "        'num_jsons_converted': np.int64(),\n",
    "        'num_json_bytes_converted': np.int64(),\n",
    "        'num_recordbatch_bytes': np.int64(),\n",
    "        'num_ipc': np.int64(),\n",
    "        'ipc_bytes': np.int64(),\n",
    "        'num_buffers_converted': np.int64(),\n",
    "        't_parse': np.float64(),\n",
    "        't_resize': np.float64(),\n",
    "        't_serialize': np.float64(),\n",
    "        't_thread': np.float64(),\n",
    "        't_enqueue': np.float64(),\n",
    "        'status': np.int64()\n",
    "    }\n",
    "        \n",
    "    df = pd.read_csv(file, dtype=schema)\n",
    "    \n",
    "    meta = get_meta(file)\n",
    "\n",
    "    for key, value in meta.items():  \n",
    "        df.insert(0, key, value)\n",
    "        \n",
    "    # Make sure there were no errors for converters.\n",
    "    assert(df['status'].sum() == len(df.index))\n",
    "        \n",
    "    return df"
   ]
  },
  {
   "cell_type": "code",
   "execution_count": 40,
   "id": "thirty-nomination",
   "metadata": {},
   "outputs": [],
   "source": [
    "def analyze(df):\n",
    "    \"\"\"Analyze the experiment data, deriving various metrics such as throughput.\"\"\"\n",
    "    # Calculate time spent within the thread as 'other'.\n",
    "    df['t_other'] = df['t_thread'] - df[['t_parse', 't_resize', 't_serialize', 't_enqueue']].sum(axis=1)\n",
    "    \n",
    "    # Calculate the throughput per thread\n",
    "    df['Parse throughput (in)'] = df['num_json_bytes_converted'] / df['t_parse']\n",
    "    df['Parse throughput (out)'] = df['num_recordbatch_bytes'] / df['t_parse']\n",
    "        \n",
    "    return df"
   ]
  },
  {
   "cell_type": "code",
   "execution_count": 41,
   "id": "mobile-refrigerator",
   "metadata": {},
   "outputs": [],
   "source": [
    "def summarize(df):\n",
    "    \"\"\"Summarize the data from one run into one row with averages.\"\"\"\n",
    "    \n",
    "    assert(len(pd.unique(df['max_value'])==1))\n",
    "    assert(len(pd.unique(df['threads'])==1))\n",
    "    assert(len(pd.unique(df['input_size_approx'])==1))\n",
    "    assert(df['num_threads'].sum()==pd.unique(df['threads'])[0])\n",
    "    repeats = pd.unique(df['repeats'])[0]\n",
    "    \n",
    "    row = {'Max. value': pd.unique(df['max_value'])[0],\n",
    "           'Input size': pd.unique(df['input_size_approx'])[0],\n",
    "           'Repeats': pd.unique(df['repeats'])[0],\n",
    "           'Threads': df['num_threads'].sum(),\n",
    "           'JSONs': df['num_jsons_converted'].sum() / repeats,\n",
    "           'Bytes (in)': df['num_json_bytes_converted'].sum() / repeats,\n",
    "           'RecordBatch bytes': df['num_recordbatch_bytes'].sum() / repeats,\n",
    "           'IPC messages': df['num_ipc'].sum() / repeats,\n",
    "           'IPC bytes': df['ipc_bytes'].sum() / repeats,\n",
    "           'Buffers converted': df['num_buffers_converted'].sum() / repeats,\n",
    "           # For time, we use the max time of all threads, \n",
    "           # since the throughput is determined by the slowest thread in the pool,\n",
    "           # and they all start operating simultaneously\n",
    "           'Parse time': df['t_parse'].max(),\n",
    "           'Resize time': df['t_resize'].max(),\n",
    "           'Serialize time': df['t_serialize'].max(),\n",
    "           'Enqueue time': df['t_enqueue'].max(),\n",
    "           'Other time': df['t_other'].max(),\n",
    "           'Thread time': df['t_thread'].max(),\n",
    "           'Parse throughput (in)': df['num_json_bytes_converted'].sum() / df['t_parse'].max(),\n",
    "           'Parse throughput (out)': df['num_recordbatch_bytes'].sum() / df['t_parse'].max()}\n",
    "              \n",
    "    return row;"
   ]
  },
  {
   "cell_type": "code",
   "execution_count": 42,
   "id": "organizational-entrepreneur",
   "metadata": {
    "scrolled": true
   },
   "outputs": [],
   "source": [
    "def get_all_data(data_path, schema, impl):\n",
    "    path = '{}/{}/latency/threads/metrics/{}/'.format(data_path, schema, impl.lower())\n",
    "    csv_files = []\n",
    "    for file in glob.glob(\"{}*.csv\".format(path)):\n",
    "        csv_files.append(file)\n",
    "    print(\"Found {} files in {}\".format(len(csv_files), path))\n",
    "\n",
    "    records = []\n",
    "    for file in csv_files:\n",
    "        records.append(summarize(analyze(load(file))))\n",
    "\n",
    "\n",
    "    df = pd.DataFrame.from_records(records)\n",
    "    df.sort_values(by=['Threads', 'JSONs'], inplace=True)\n",
    "    df.insert(0,'Implementation', impl)\n",
    "    \n",
    "    # Use only best value\n",
    "    df = df[df['Max. value'] == 18446744073709551615]\n",
    "    \n",
    "    # Print max throughput\n",
    "    display('{} (in) max: {}'.format(impl, df['Parse throughput (in)'].max() * 1e-9))\n",
    "    display('{} (out)max: {}'.format(impl, df['Parse throughput (out)'].max() * 1e-9))\n",
    "    # Print mean throughput of highest throughput per input size\n",
    "    display('{}      mean: {}'.format(impl, df.groupby(['Implementation', 'Input size']).agg({'Parse throughput (in)': 'max'})['Parse throughput (in)'].mean() * 1e-9))\n",
    "    \n",
    "    return df"
   ]
  },
  {
   "cell_type": "code",
   "execution_count": 43,
   "id": "extreme-spank",
   "metadata": {},
   "outputs": [],
   "source": [
    "def get_max_throughput_for_max_size(df):\n",
    "    df = df[df.JSONs == df.JSONs.max()]\n",
    "    #df.set_index('Threads', inplace=True)\n",
    "\n",
    "    result = df[df['Parse throughput (in)'] == df['Parse throughput (in)'].max()]\n",
    "\n",
    "    return result"
   ]
  },
  {
   "cell_type": "code",
   "execution_count": 44,
   "id": "generic-welsh",
   "metadata": {},
   "outputs": [],
   "source": [
    "import matplotlib.pyplot as plt\n",
    "from utils import lighten_color\n",
    "\n",
    "plt.rcParams.update({\n",
    "    \"text.usetex\": True,\n",
    "    \"font.family\": \"serif\",\n",
    "    \"font.serif\": [\"Palatino\"],\n",
    "    \"font.size\": 14\n",
    "})\n",
    "\n",
    "colors = ['#4878d0', '#6acc64', '#d65f5f', '#d5bb67', '#dc7ec0', '#8c613c']\n",
    "markers = ['o', 's', 'd']"
   ]
  },
  {
   "cell_type": "code",
   "execution_count": 45,
   "id": "mounted-short",
   "metadata": {
    "scrolled": false
   },
   "outputs": [
    {
     "name": "stdout",
     "output_type": "stream",
     "text": [
      "Found 36 files in ../experiments/data-intel-trip-alt/trip/latency/threads/metrics/arrow/\n"
     ]
    },
    {
     "data": {
      "text/plain": [
       "'Arrow (in) max: 2.106769966984357'"
      ]
     },
     "metadata": {},
     "output_type": "display_data"
    },
    {
     "data": {
      "text/plain": [
       "'Arrow (out)max: 0.7316985221131238'"
      ]
     },
     "metadata": {},
     "output_type": "display_data"
    },
    {
     "data": {
      "text/plain": [
       "'Arrow      mean: 1.6410045394372303'"
      ]
     },
     "metadata": {},
     "output_type": "display_data"
    },
    {
     "name": "stdout",
     "output_type": "stream",
     "text": [
      "Found 36 files in ../experiments/data-intel-trip-alt/trip/latency/threads/metrics/custom/\n"
     ]
    },
    {
     "data": {
      "text/plain": [
       "'Custom (in) max: 7.04191582006234'"
      ]
     },
     "metadata": {},
     "output_type": "display_data"
    },
    {
     "data": {
      "text/plain": [
       "'Custom (out)max: 2.445715231910224'"
      ]
     },
     "metadata": {},
     "output_type": "display_data"
    },
    {
     "data": {
      "text/plain": [
       "'Custom      mean: 5.072297502334238'"
      ]
     },
     "metadata": {},
     "output_type": "display_data"
    },
    {
     "name": "stdout",
     "output_type": "stream",
     "text": [
      "Found 4 files in ../experiments/data-intel-trip-alt/trip/latency/threads/metrics/fpga/\n"
     ]
    },
    {
     "data": {
      "text/plain": [
       "'FPGA (in) max: 5.487118451612904'"
      ]
     },
     "metadata": {},
     "output_type": "display_data"
    },
    {
     "data": {
      "text/plain": [
       "'FPGA (out)max: 2833.606940504308'"
      ]
     },
     "metadata": {},
     "output_type": "display_data"
    },
    {
     "data": {
      "text/plain": [
       "'FPGA      mean: 5.121279959825303'"
      ]
     },
     "metadata": {},
     "output_type": "display_data"
    },
    {
     "data": {
      "text/html": [
       "<div>\n",
       "<style scoped>\n",
       "    .dataframe tbody tr th:only-of-type {\n",
       "        vertical-align: middle;\n",
       "    }\n",
       "\n",
       "    .dataframe tbody tr th {\n",
       "        vertical-align: top;\n",
       "    }\n",
       "\n",
       "    .dataframe thead th {\n",
       "        text-align: right;\n",
       "    }\n",
       "</style>\n",
       "<table border=\"1\" class=\"dataframe\">\n",
       "  <thead>\n",
       "    <tr style=\"text-align: right;\">\n",
       "      <th></th>\n",
       "      <th>Implementation</th>\n",
       "      <th>Max. value</th>\n",
       "      <th>Input size</th>\n",
       "      <th>Repeats</th>\n",
       "      <th>Threads</th>\n",
       "      <th>JSONs</th>\n",
       "      <th>Bytes (in)</th>\n",
       "      <th>RecordBatch bytes</th>\n",
       "      <th>IPC messages</th>\n",
       "      <th>IPC bytes</th>\n",
       "      <th>Buffers converted</th>\n",
       "      <th>Parse time</th>\n",
       "      <th>Resize time</th>\n",
       "      <th>Serialize time</th>\n",
       "      <th>Enqueue time</th>\n",
       "      <th>Other time</th>\n",
       "      <th>Thread time</th>\n",
       "      <th>Parse throughput (in)</th>\n",
       "      <th>Parse throughput (out)</th>\n",
       "    </tr>\n",
       "  </thead>\n",
       "  <tbody>\n",
       "    <tr>\n",
       "      <th>3</th>\n",
       "      <td>Arrow</td>\n",
       "      <td>18446744073709551615</td>\n",
       "      <td>16777216</td>\n",
       "      <td>8</td>\n",
       "      <td>1</td>\n",
       "      <td>13356.0</td>\n",
       "      <td>1.677624e+07</td>\n",
       "      <td>5.826458e+06</td>\n",
       "      <td>1.0</td>\n",
       "      <td>0.0</td>\n",
       "      <td>1.0</td>\n",
       "      <td>1.072060</td>\n",
       "      <td>0.000007</td>\n",
       "      <td>0.000010</td>\n",
       "      <td>0.000021</td>\n",
       "      <td>0.000172</td>\n",
       "      <td>1.072270</td>\n",
       "      <td>1.251888e+08</td>\n",
       "      <td>4.347860e+07</td>\n",
       "    </tr>\n",
       "    <tr>\n",
       "      <th>20</th>\n",
       "      <td>Arrow</td>\n",
       "      <td>18446744073709551615</td>\n",
       "      <td>134217728</td>\n",
       "      <td>8</td>\n",
       "      <td>1</td>\n",
       "      <td>106854.0</td>\n",
       "      <td>1.342172e+08</td>\n",
       "      <td>4.661492e+07</td>\n",
       "      <td>1.0</td>\n",
       "      <td>0.0</td>\n",
       "      <td>1.0</td>\n",
       "      <td>8.287520</td>\n",
       "      <td>0.000009</td>\n",
       "      <td>0.000018</td>\n",
       "      <td>0.000039</td>\n",
       "      <td>0.000314</td>\n",
       "      <td>8.287900</td>\n",
       "      <td>1.295608e+08</td>\n",
       "      <td>4.499770e+07</td>\n",
       "    </tr>\n",
       "    <tr>\n",
       "      <th>8</th>\n",
       "      <td>Arrow</td>\n",
       "      <td>18446744073709551615</td>\n",
       "      <td>1073741824</td>\n",
       "      <td>8</td>\n",
       "      <td>1</td>\n",
       "      <td>854840.0</td>\n",
       "      <td>1.073746e+09</td>\n",
       "      <td>3.729182e+08</td>\n",
       "      <td>4.0</td>\n",
       "      <td>0.0</td>\n",
       "      <td>4.0</td>\n",
       "      <td>66.870500</td>\n",
       "      <td>0.000027</td>\n",
       "      <td>0.000049</td>\n",
       "      <td>0.000086</td>\n",
       "      <td>0.000537</td>\n",
       "      <td>66.871200</td>\n",
       "      <td>1.284567e+08</td>\n",
       "      <td>4.461378e+07</td>\n",
       "    </tr>\n",
       "    <tr>\n",
       "      <th>27</th>\n",
       "      <td>Arrow</td>\n",
       "      <td>18446744073709551615</td>\n",
       "      <td>8589934592</td>\n",
       "      <td>8</td>\n",
       "      <td>1</td>\n",
       "      <td>6838720.0</td>\n",
       "      <td>8.589965e+09</td>\n",
       "      <td>2.983346e+09</td>\n",
       "      <td>32.0</td>\n",
       "      <td>0.0</td>\n",
       "      <td>32.0</td>\n",
       "      <td>520.443000</td>\n",
       "      <td>0.000196</td>\n",
       "      <td>0.000336</td>\n",
       "      <td>0.000872</td>\n",
       "      <td>0.006597</td>\n",
       "      <td>520.451000</td>\n",
       "      <td>1.320408e+08</td>\n",
       "      <td>4.585856e+07</td>\n",
       "    </tr>\n",
       "    <tr>\n",
       "      <th>33</th>\n",
       "      <td>Arrow</td>\n",
       "      <td>18446744073709551615</td>\n",
       "      <td>16777216</td>\n",
       "      <td>8</td>\n",
       "      <td>4</td>\n",
       "      <td>13355.0</td>\n",
       "      <td>1.677524e+07</td>\n",
       "      <td>5.825515e+06</td>\n",
       "      <td>4.0</td>\n",
       "      <td>0.0</td>\n",
       "      <td>4.0</td>\n",
       "      <td>0.411885</td>\n",
       "      <td>0.000009</td>\n",
       "      <td>0.000011</td>\n",
       "      <td>0.000040</td>\n",
       "      <td>0.092977</td>\n",
       "      <td>0.432224</td>\n",
       "      <td>3.258238e+08</td>\n",
       "      <td>1.131484e+08</td>\n",
       "    </tr>\n",
       "    <tr>\n",
       "      <th>...</th>\n",
       "      <td>...</td>\n",
       "      <td>...</td>\n",
       "      <td>...</td>\n",
       "      <td>...</td>\n",
       "      <td>...</td>\n",
       "      <td>...</td>\n",
       "      <td>...</td>\n",
       "      <td>...</td>\n",
       "      <td>...</td>\n",
       "      <td>...</td>\n",
       "      <td>...</td>\n",
       "      <td>...</td>\n",
       "      <td>...</td>\n",
       "      <td>...</td>\n",
       "      <td>...</td>\n",
       "      <td>...</td>\n",
       "      <td>...</td>\n",
       "      <td>...</td>\n",
       "      <td>...</td>\n",
       "    </tr>\n",
       "    <tr>\n",
       "      <th>26</th>\n",
       "      <td>Custom</td>\n",
       "      <td>18446744073709551615</td>\n",
       "      <td>8589934592</td>\n",
       "      <td>8</td>\n",
       "      <td>32</td>\n",
       "      <td>6839168.0</td>\n",
       "      <td>8.590592e+09</td>\n",
       "      <td>2.983583e+09</td>\n",
       "      <td>1024.0</td>\n",
       "      <td>0.0</td>\n",
       "      <td>1024.0</td>\n",
       "      <td>9.759380</td>\n",
       "      <td>0.000136</td>\n",
       "      <td>0.000437</td>\n",
       "      <td>0.001248</td>\n",
       "      <td>2.537631</td>\n",
       "      <td>11.632400</td>\n",
       "      <td>7.041916e+09</td>\n",
       "      <td>2.445715e+09</td>\n",
       "    </tr>\n",
       "    <tr>\n",
       "      <th>0</th>\n",
       "      <td>FPGA</td>\n",
       "      <td>18446744073709551615</td>\n",
       "      <td>16777216</td>\n",
       "      <td>8</td>\n",
       "      <td>1</td>\n",
       "      <td>13360.0</td>\n",
       "      <td>1.678118e+07</td>\n",
       "      <td>1.073753e+10</td>\n",
       "      <td>1.0</td>\n",
       "      <td>0.0</td>\n",
       "      <td>8.0</td>\n",
       "      <td>0.030315</td>\n",
       "      <td>0.000009</td>\n",
       "      <td>0.000010</td>\n",
       "      <td>0.000040</td>\n",
       "      <td>0.000624</td>\n",
       "      <td>0.030998</td>\n",
       "      <td>4.428512e+09</td>\n",
       "      <td>2.833607e+12</td>\n",
       "    </tr>\n",
       "    <tr>\n",
       "      <th>2</th>\n",
       "      <td>FPGA</td>\n",
       "      <td>18446744073709551615</td>\n",
       "      <td>134217728</td>\n",
       "      <td>8</td>\n",
       "      <td>1</td>\n",
       "      <td>106858.0</td>\n",
       "      <td>1.342220e+08</td>\n",
       "      <td>1.073830e+10</td>\n",
       "      <td>1.0</td>\n",
       "      <td>0.0</td>\n",
       "      <td>8.0</td>\n",
       "      <td>0.204594</td>\n",
       "      <td>0.000010</td>\n",
       "      <td>0.000012</td>\n",
       "      <td>0.000025</td>\n",
       "      <td>0.000636</td>\n",
       "      <td>0.205277</td>\n",
       "      <td>5.248328e+09</td>\n",
       "      <td>4.198872e+11</td>\n",
       "    </tr>\n",
       "    <tr>\n",
       "      <th>1</th>\n",
       "      <td>FPGA</td>\n",
       "      <td>18446744073709551615</td>\n",
       "      <td>1073741824</td>\n",
       "      <td>8</td>\n",
       "      <td>1</td>\n",
       "      <td>854856.0</td>\n",
       "      <td>1.073760e+09</td>\n",
       "      <td>4.295673e+10</td>\n",
       "      <td>4.0</td>\n",
       "      <td>0.0</td>\n",
       "      <td>32.0</td>\n",
       "      <td>1.565500</td>\n",
       "      <td>0.000028</td>\n",
       "      <td>0.000035</td>\n",
       "      <td>0.000145</td>\n",
       "      <td>0.002431</td>\n",
       "      <td>1.568140</td>\n",
       "      <td>5.487118e+09</td>\n",
       "      <td>2.195170e+11</td>\n",
       "    </tr>\n",
       "    <tr>\n",
       "      <th>3</th>\n",
       "      <td>FPGA</td>\n",
       "      <td>18446744073709551615</td>\n",
       "      <td>8589934592</td>\n",
       "      <td>8</td>\n",
       "      <td>1</td>\n",
       "      <td>6838848.0</td>\n",
       "      <td>8.590084e+09</td>\n",
       "      <td>3.436538e+11</td>\n",
       "      <td>32.0</td>\n",
       "      <td>0.0</td>\n",
       "      <td>256.0</td>\n",
       "      <td>12.914600</td>\n",
       "      <td>0.000202</td>\n",
       "      <td>0.000272</td>\n",
       "      <td>0.001158</td>\n",
       "      <td>0.019868</td>\n",
       "      <td>12.936100</td>\n",
       "      <td>5.321161e+09</td>\n",
       "      <td>2.128777e+11</td>\n",
       "    </tr>\n",
       "  </tbody>\n",
       "</table>\n",
       "<p>76 rows × 19 columns</p>\n",
       "</div>"
      ],
      "text/plain": [
       "   Implementation            Max. value  Input size  Repeats  Threads  \\\n",
       "3           Arrow  18446744073709551615    16777216        8        1   \n",
       "20          Arrow  18446744073709551615   134217728        8        1   \n",
       "8           Arrow  18446744073709551615  1073741824        8        1   \n",
       "27          Arrow  18446744073709551615  8589934592        8        1   \n",
       "33          Arrow  18446744073709551615    16777216        8        4   \n",
       "..            ...                   ...         ...      ...      ...   \n",
       "26         Custom  18446744073709551615  8589934592        8       32   \n",
       "0            FPGA  18446744073709551615    16777216        8        1   \n",
       "2            FPGA  18446744073709551615   134217728        8        1   \n",
       "1            FPGA  18446744073709551615  1073741824        8        1   \n",
       "3            FPGA  18446744073709551615  8589934592        8        1   \n",
       "\n",
       "        JSONs    Bytes (in)  RecordBatch bytes  IPC messages  IPC bytes  \\\n",
       "3     13356.0  1.677624e+07       5.826458e+06           1.0        0.0   \n",
       "20   106854.0  1.342172e+08       4.661492e+07           1.0        0.0   \n",
       "8    854840.0  1.073746e+09       3.729182e+08           4.0        0.0   \n",
       "27  6838720.0  8.589965e+09       2.983346e+09          32.0        0.0   \n",
       "33    13355.0  1.677524e+07       5.825515e+06           4.0        0.0   \n",
       "..        ...           ...                ...           ...        ...   \n",
       "26  6839168.0  8.590592e+09       2.983583e+09        1024.0        0.0   \n",
       "0     13360.0  1.678118e+07       1.073753e+10           1.0        0.0   \n",
       "2    106858.0  1.342220e+08       1.073830e+10           1.0        0.0   \n",
       "1    854856.0  1.073760e+09       4.295673e+10           4.0        0.0   \n",
       "3   6838848.0  8.590084e+09       3.436538e+11          32.0        0.0   \n",
       "\n",
       "    Buffers converted  Parse time  Resize time  Serialize time  Enqueue time  \\\n",
       "3                 1.0    1.072060     0.000007        0.000010      0.000021   \n",
       "20                1.0    8.287520     0.000009        0.000018      0.000039   \n",
       "8                 4.0   66.870500     0.000027        0.000049      0.000086   \n",
       "27               32.0  520.443000     0.000196        0.000336      0.000872   \n",
       "33                4.0    0.411885     0.000009        0.000011      0.000040   \n",
       "..                ...         ...          ...             ...           ...   \n",
       "26             1024.0    9.759380     0.000136        0.000437      0.001248   \n",
       "0                 8.0    0.030315     0.000009        0.000010      0.000040   \n",
       "2                 8.0    0.204594     0.000010        0.000012      0.000025   \n",
       "1                32.0    1.565500     0.000028        0.000035      0.000145   \n",
       "3               256.0   12.914600     0.000202        0.000272      0.001158   \n",
       "\n",
       "    Other time  Thread time  Parse throughput (in)  Parse throughput (out)  \n",
       "3     0.000172     1.072270           1.251888e+08            4.347860e+07  \n",
       "20    0.000314     8.287900           1.295608e+08            4.499770e+07  \n",
       "8     0.000537    66.871200           1.284567e+08            4.461378e+07  \n",
       "27    0.006597   520.451000           1.320408e+08            4.585856e+07  \n",
       "33    0.092977     0.432224           3.258238e+08            1.131484e+08  \n",
       "..         ...          ...                    ...                     ...  \n",
       "26    2.537631    11.632400           7.041916e+09            2.445715e+09  \n",
       "0     0.000624     0.030998           4.428512e+09            2.833607e+12  \n",
       "2     0.000636     0.205277           5.248328e+09            4.198872e+11  \n",
       "1     0.002431     1.568140           5.487118e+09            2.195170e+11  \n",
       "3     0.019868    12.936100           5.321161e+09            2.128777e+11  \n",
       "\n",
       "[76 rows x 19 columns]"
      ]
     },
     "metadata": {},
     "output_type": "display_data"
    },
    {
     "name": "stdout",
     "output_type": "stream",
     "text": [
      "Input sizes    : [  16777216  134217728 1073741824 8589934592]\n",
      "Threads        : [ 1  4  8 12 16 20 24 28 32]\n",
      "Impls          : ['Arrow' 'Custom' 'FPGA']\n"
     ]
    }
   ],
   "source": [
    "d_impls = []\n",
    "\n",
    "#d_impls.append(get_all_data('../experiments/data-p9-trip-alt', 'trip', 'Arrow'))\n",
    "#d_impls.append(get_all_data('../experiments/data-p9-trip-alt', 'trip', 'Custom'))\n",
    "#d_impls.append(get_all_data('../experiments/data-p9-trip-alt', 'trip', 'FPGA'))\n",
    "#d_impls.append(get_all_data('../experiments/data-p9-trip-only-cpu', 'trip', 'Arrow'))\n",
    "#d_impls.append(get_all_data('../experiments/data-p9-trip-only-cpu', 'trip', 'Custom'))\n",
    "d_impls.append(get_all_data('../experiments/data-intel-trip-alt', 'trip', 'Arrow'))\n",
    "d_impls.append(get_all_data('../experiments/data-intel-trip-alt', 'trip', 'Custom'))\n",
    "d_impls.append(get_all_data('../experiments/data-intel-trip-alt', 'trip', 'FPGA'))\n",
    "\n",
    "df = pd.concat(d_impls)\n",
    "\n",
    "#with pd.option_context('display.max_rows', None, 'display.max_columns', None):  \n",
    "#dfd = df[df['Implementation'] == 'Custom']\n",
    "#dfd.sort_values(by='Parse throughput (in)', ascending=False, inplace=True)\n",
    "#dfd['Parse throughput (in)'] = dfd['Parse throughput (in)'] / 2**20\n",
    "display(df)\n",
    "\n",
    "max_tp = df['Parse throughput (in)'].max()\n",
    "\n",
    "# Get all dimensions for plots\n",
    "input_sizes = np.sort(pd.unique(df['Input size']))\n",
    "threads = np.sort(pd.unique(df['Threads']))\n",
    "impls = pd.unique(df['Implementation'])\n",
    "\n",
    "print(\"Input sizes    :\", input_sizes)\n",
    "print(\"Threads        :\", threads)\n",
    "print(\"Impls          :\", impls)"
   ]
  },
  {
   "cell_type": "code",
   "execution_count": 46,
   "id": "handy-forum",
   "metadata": {
    "scrolled": false
   },
   "outputs": [
    {
     "data": {
      "image/png": "[encoded data removed]",
      "text/plain": [
       "<Figure size 720x216 with 4 Axes>"
      ]
     },
     "metadata": {
      "needs_background": "light"
     },
     "output_type": "display_data"
    }
   ],
   "source": [
    "fig, axs = plt.subplots(ncols=len(input_sizes), figsize=[10, 3], sharey=True, sharex=True)\n",
    "\n",
    "handles = {}\n",
    "\n",
    "for xa, inps in enumerate(input_sizes):\n",
    "    ax = axs[xa]\n",
    "\n",
    "    for i, impl in enumerate(impls):\n",
    "        # Prepare plotting data\n",
    "        dl = df[(df['Input size'] == inps) & (df['Implementation'] == impl)]\n",
    "        y = dl['Parse throughput (in)'] * 1e-9\n",
    "        y2 = dl['Parse throughput (out)'] * 1e-9\n",
    "        x = dl['Threads']\n",
    "\n",
    "        # Plot FPGA data\n",
    "        handles[impl], = ax.plot(x, y, c=lighten_color(colors[i],0.3), marker=markers[i], mfc=colors[i], mec=colors[i], linewidth=3)\n",
    "\n",
    "        if impl == 'FPGA':\n",
    "            handles['FPGA (in) max.'] = ax.axhline(y=y.to_numpy()[-1], color=lighten_color(colors[i],0.7), ls='--')\n",
    "            # handles['FPGA (out) max.'] = ax.axhline(y=y2.to_numpy()[-1], color=lighten_color(colors[i+1],0.7), ls='--')\n",
    "\n",
    "\n",
    "\n",
    "    # Set inline \n",
    "    ax.annotate(\"Input size:{:.0f} MiB\".format(inps / (1<<20)), \n",
    "                xycoords='axes fraction', \n",
    "                xy=(0.05, 0.9), \n",
    "                fontsize=12,\n",
    "                backgroundcolor='#FFFFFF80')\n",
    "\n",
    "    ax.set_xticks(threads)\n",
    "    ax.set_xticklabels(threads, rotation=90, fontsize=8)\n",
    "\n",
    "    ax.set_yticks(range(0, 25,1))\n",
    "    ax.set_ylim(0, 1.25*max_tp * 1e-9)\n",
    "\n",
    "    ax.grid(which='both')\n",
    "\n",
    "    if xa == 0:\n",
    "        ax.set_xlabel('Threads / Parser instances')\n",
    "        ax.set_ylabel('Throughput (GB/s)')\n",
    "                        \n",
    "leg_handles = [v for k,v in handles.items()]\n",
    "leg_labels = [k for k,v in handles.items()]\n",
    "fig.legend(leg_handles, leg_labels, ncol=4, bbox_to_anchor=(-0.17, 0.93, 1.0, 0.1), frameon=False)\n",
    "plt.subplots_adjust(hspace = .1, wspace = .075, bottom=0.15)\n",
    "\n",
    "fig.savefig(\"throughput-trip-intel.pdf\")"
   ]
  },
  {
   "cell_type": "code",
   "execution_count": null,
   "id": "equal-diabetes",
   "metadata": {},
   "outputs": [],
   "source": []
  },
  {
   "cell_type": "code",
   "execution_count": null,
   "id": "neutral-partner",
   "metadata": {},
   "outputs": [],
   "source": []
  }
 ],
 "metadata": {
  "kernelspec": {
   "display_name": "Python 3",
   "language": "python",
   "name": "python3"
  },
  "language_info": {
   "codemirror_mode": {
    "name": "ipython",
    "version": 3
   },
   "file_extension": ".py",
   "mimetype": "text/x-python",
   "name": "python",
   "nbconvert_exporter": "python",
   "pygments_lexer": "ipython3",
   "version": "3.9.5"
  }
 },
 "nbformat": 4,
 "nbformat_minor": 5
}

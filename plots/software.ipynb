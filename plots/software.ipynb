{
 "cells": [
  {
   "cell_type": "code",
   "execution_count": 50,
   "id": "structured-notion",
   "metadata": {},
   "outputs": [],
   "source": [
    "import pandas as pd\n",
    "import numpy as np\n",
    "import matplotlib.pyplot as plt"
   ]
  },
  {
   "cell_type": "code",
   "execution_count": 51,
   "id": "limiting-thinking",
   "metadata": {
    "pycharm": {
     "name": "#%%\n"
    }
   },
   "outputs": [
    {
     "data": {
      "text/plain": "                                                              bytes_in  \\\nframework       api           allocated max_values num_jsons             \nsimdjson        DOM           False     1          1024          18878   \n                              True      1          1024          18878   \n                DOM (no keys) True      1          1024          18878   \nRapidJSON       DOM           False     1          1024          18878   \n                DOM (in situ) False     1          1024          18878   \n...                                                                ...   \n                SAX           True      128        1024         307040   \nCustom          NaN           True      128        1024         307040   \n                              False     128        1024         307040   \nANTLR4          NaN           False     128        1024         307040   \nBoost Spirit.X3 NaN           False     128        1024         307040   \n\n                                                              bytes_out  \\\nframework       api           allocated max_values num_jsons              \nsimdjson        DOM           False     1          1024            8192   \n                              True      1          1024            8192   \n                DOM (no keys) True      1          1024            8192   \nRapidJSON       DOM           False     1          1024            8192   \n                DOM (in situ) False     1          1024            8192   \n...                                                                 ...   \n                SAX           True      128        1024          525360   \nCustom          NaN           True      128        1024          525360   \n                              False     128        1024          525360   \nANTLR4          NaN           False     128        1024          525360   \nBoost Spirit.X3 NaN           False     128        1024          525360   \n\n                                                                  time  \\\nframework       api           allocated max_values num_jsons             \nsimdjson        DOM           False     1          1024       0.000047   \n                              True      1          1024       0.000030   \n                DOM (no keys) True      1          1024       0.000034   \nRapidJSON       DOM           False     1          1024       0.000079   \n                DOM (in situ) False     1          1024       0.000068   \n...                                                                ...   \n                SAX           True      128        1024       0.000660   \nCustom          NaN           True      128        1024       0.000339   \n                              False     128        1024       0.000454   \nANTLR4          NaN           False     128        1024       0.040948   \nBoost Spirit.X3 NaN           False     128        1024       0.000737   \n\n                                                                throughput  \nframework       api           allocated max_values num_jsons                \nsimdjson        DOM           False     1          1024       3.996105e+08  \n                              True      1          1024       6.240455e+08  \n                DOM (no keys) True      1          1024       5.536070e+08  \nRapidJSON       DOM           False     1          1024       2.395047e+08  \n                DOM (in situ) False     1          1024       2.792975e+08  \n...                                                                    ...  \n                SAX           True      128        1024       4.652051e+08  \nCustom          NaN           True      128        1024       9.055491e+08  \n                              False     128        1024       6.762727e+08  \nANTLR4          NaN           False     128        1024       7.498217e+06  \nBoost Spirit.X3 NaN           False     128        1024       4.167255e+08  \n\n[88 rows x 4 columns]",
      "text/html": "<div>\n<style scoped>\n    .dataframe tbody tr th:only-of-type {\n        vertical-align: middle;\n    }\n\n    .dataframe tbody tr th {\n        vertical-align: top;\n    }\n\n    .dataframe thead th {\n        text-align: right;\n    }\n</style>\n<table border=\"1\" class=\"dataframe\">\n  <thead>\n    <tr style=\"text-align: right;\">\n      <th></th>\n      <th></th>\n      <th></th>\n      <th></th>\n      <th></th>\n      <th>bytes_in</th>\n      <th>bytes_out</th>\n      <th>time</th>\n      <th>throughput</th>\n    </tr>\n    <tr>\n      <th>framework</th>\n      <th>api</th>\n      <th>allocated</th>\n      <th>max_values</th>\n      <th>num_jsons</th>\n      <th></th>\n      <th></th>\n      <th></th>\n      <th></th>\n    </tr>\n  </thead>\n  <tbody>\n    <tr>\n      <th rowspan=\"3\" valign=\"top\">simdjson</th>\n      <th rowspan=\"2\" valign=\"top\">DOM</th>\n      <th>False</th>\n      <th>1</th>\n      <th>1024</th>\n      <td>18878</td>\n      <td>8192</td>\n      <td>0.000047</td>\n      <td>3.996105e+08</td>\n    </tr>\n    <tr>\n      <th>True</th>\n      <th>1</th>\n      <th>1024</th>\n      <td>18878</td>\n      <td>8192</td>\n      <td>0.000030</td>\n      <td>6.240455e+08</td>\n    </tr>\n    <tr>\n      <th>DOM (no keys)</th>\n      <th>True</th>\n      <th>1</th>\n      <th>1024</th>\n      <td>18878</td>\n      <td>8192</td>\n      <td>0.000034</td>\n      <td>5.536070e+08</td>\n    </tr>\n    <tr>\n      <th rowspan=\"4\" valign=\"top\">RapidJSON</th>\n      <th>DOM</th>\n      <th>False</th>\n      <th>1</th>\n      <th>1024</th>\n      <td>18878</td>\n      <td>8192</td>\n      <td>0.000079</td>\n      <td>2.395047e+08</td>\n    </tr>\n    <tr>\n      <th>DOM (in situ)</th>\n      <th>False</th>\n      <th>1</th>\n      <th>1024</th>\n      <td>18878</td>\n      <td>8192</td>\n      <td>0.000068</td>\n      <td>2.792975e+08</td>\n    </tr>\n    <tr>\n      <th>...</th>\n      <th>...</th>\n      <th>...</th>\n      <th>...</th>\n      <td>...</td>\n      <td>...</td>\n      <td>...</td>\n      <td>...</td>\n    </tr>\n    <tr>\n      <th>SAX</th>\n      <th>True</th>\n      <th>128</th>\n      <th>1024</th>\n      <td>307040</td>\n      <td>525360</td>\n      <td>0.000660</td>\n      <td>4.652051e+08</td>\n    </tr>\n    <tr>\n      <th rowspan=\"2\" valign=\"top\">Custom</th>\n      <th rowspan=\"2\" valign=\"top\">NaN</th>\n      <th>True</th>\n      <th>128</th>\n      <th>1024</th>\n      <td>307040</td>\n      <td>525360</td>\n      <td>0.000339</td>\n      <td>9.055491e+08</td>\n    </tr>\n    <tr>\n      <th>False</th>\n      <th>128</th>\n      <th>1024</th>\n      <td>307040</td>\n      <td>525360</td>\n      <td>0.000454</td>\n      <td>6.762727e+08</td>\n    </tr>\n    <tr>\n      <th>ANTLR4</th>\n      <th>NaN</th>\n      <th>False</th>\n      <th>128</th>\n      <th>1024</th>\n      <td>307040</td>\n      <td>525360</td>\n      <td>0.040948</td>\n      <td>7.498217e+06</td>\n    </tr>\n    <tr>\n      <th>Boost Spirit.X3</th>\n      <th>NaN</th>\n      <th>False</th>\n      <th>128</th>\n      <th>1024</th>\n      <td>307040</td>\n      <td>525360</td>\n      <td>0.000737</td>\n      <td>4.167255e+08</td>\n    </tr>\n  </tbody>\n</table>\n<p>88 rows × 4 columns</p>\n</div>"
     },
     "metadata": {},
     "output_type": "display_data"
    }
   ],
   "source": [
    "df = pd.read_csv('../experiments/sw-data/AMD_Ryzen_7_5800X.csv')\n",
    "\n",
    "df['throughput'] = df['bytes_in'] / df['time']\n",
    "df.set_index(['framework', 'api', 'allocated', 'max_values', 'num_jsons'], inplace=True)\n",
    "display(df)\n"
   ]
  },
  {
   "cell_type": "code",
   "execution_count": 52,
   "outputs": [
    {
     "data": {
      "text/plain": "                   throughput  Throughput (GB/s)\nframework                                       \nANTLR4           1.313015e+07           0.013130\nRapidJSON        5.633542e+08           0.563354\nsimdjson         7.131578e+08           0.713158\nBoost Spirit.X3  9.159187e+08           0.915919\nCustom           2.940498e+09           2.940498",
      "text/html": "<div>\n<style scoped>\n    .dataframe tbody tr th:only-of-type {\n        vertical-align: middle;\n    }\n\n    .dataframe tbody tr th {\n        vertical-align: top;\n    }\n\n    .dataframe thead th {\n        text-align: right;\n    }\n</style>\n<table border=\"1\" class=\"dataframe\">\n  <thead>\n    <tr style=\"text-align: right;\">\n      <th></th>\n      <th>throughput</th>\n      <th>Throughput (GB/s)</th>\n    </tr>\n    <tr>\n      <th>framework</th>\n      <th></th>\n      <th></th>\n    </tr>\n  </thead>\n  <tbody>\n    <tr>\n      <th>ANTLR4</th>\n      <td>1.313015e+07</td>\n      <td>0.013130</td>\n    </tr>\n    <tr>\n      <th>RapidJSON</th>\n      <td>5.633542e+08</td>\n      <td>0.563354</td>\n    </tr>\n    <tr>\n      <th>simdjson</th>\n      <td>7.131578e+08</td>\n      <td>0.713158</td>\n    </tr>\n    <tr>\n      <th>Boost Spirit.X3</th>\n      <td>9.159187e+08</td>\n      <td>0.915919</td>\n    </tr>\n    <tr>\n      <th>Custom</th>\n      <td>2.940498e+09</td>\n      <td>2.940498</td>\n    </tr>\n  </tbody>\n</table>\n</div>"
     },
     "metadata": {},
     "output_type": "display_data"
    }
   ],
   "source": [
    "df = df.groupby(['framework']).agg({'throughput':'max'})\n",
    "df.sort_values(by='throughput', inplace=True)\n",
    "df['Throughput (GB/s)'] = df.throughput * 1e-9\n",
    "display(df)"
   ],
   "metadata": {
    "collapsed": false,
    "pycharm": {
     "name": "#%%\n"
    }
   }
  },
  {
   "cell_type": "code",
   "execution_count": 53,
   "outputs": [
    {
     "data": {
      "text/plain": "<AxesSubplot:xlabel='framework'>"
     },
     "execution_count": 53,
     "metadata": {},
     "output_type": "execute_result"
    },
    {
     "data": {
      "text/plain": "<Figure size 432x288 with 1 Axes>",
      "image/png": "[encoded data removed]"
     },
     "metadata": {
      "needs_background": "light"
     },
     "output_type": "display_data"
    }
   ],
   "source": [
    "df['Throughput (GB/s)'].plot.bar()"
   ],
   "metadata": {
    "collapsed": false,
    "pycharm": {
     "name": "#%%\n"
    }
   }
  },
  {
   "cell_type": "code",
   "execution_count": null,
   "outputs": [],
   "source": [],
   "metadata": {
    "collapsed": false,
    "pycharm": {
     "name": "#%%\n"
    }
   }
  }
 ],
 "metadata": {
  "kernelspec": {
   "name": "pycharm-a33ce9",
   "language": "python",
   "display_name": "PyCharm (plots)"
  },
  "language_info": {
   "codemirror_mode": {
    "name": "ipython",
    "version": 3
   },
   "file_extension": ".py",
   "mimetype": "text/x-python",
   "name": "python",
   "nbconvert_exporter": "python",
   "pygments_lexer": "ipython3",
   "version": "3.9.5"
  }
 },
 "nbformat": 4,
 "nbformat_minor": 5
}
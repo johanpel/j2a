{
 "cells": [
  {
   "cell_type": "code",
   "execution_count": 5,
   "id": "structured-notion",
   "metadata": {},
   "outputs": [],
   "source": [
    "import pandas as pd\n",
    "import numpy as np\n",
    "import matplotlib.pyplot as plt"
   ]
  },
  {
   "cell_type": "code",
   "execution_count": 6,
   "id": "limiting-thinking",
   "metadata": {
    "pycharm": {
     "name": "#%%\n"
    }
   },
   "outputs": [
    {
     "data": {
      "text/plain": "            project      variant  pre_allocated  jsons_in   bytes_in  \\\n0          simdjson          dom          False   2097152  104342153   \n1          simdjson          dom           True   2097152  104342153   \n2          simdjson   no key dom           True   2097152  104342153   \n3         RapidJSON          dom          False   2097152  104342153   \n4         RapidJSON  in situ dom          False   2097152  104342153   \n5         RapidJSON          sax          False   2097152  104342153   \n6         RapidJSON          sax           True   2097152  104342153   \n7            Custom            a           True   2097152  104342153   \n8            Custom            b          False   2097152  104342153   \n9            Custom            c          False   2097152  104342153   \n10           ANTLR4          NaN          False   2097152  104342153   \n11  Boost Spirit X3          NaN          False   2097152  104342153   \n\n    jsons_out  bytes_out       time    Throughput  \n0    16821106  134568848   0.345817  3.017265e+08  \n1    16821106  134568848   0.274658  3.798985e+08  \n2    16821106  134568848   0.273553  3.814330e+08  \n3    16821106  134568848   0.459300  2.271765e+08  \n4    16821106  134568848   0.448616  2.325868e+08  \n5    16821106  134568848   0.323005  3.230357e+08  \n6    16821106  134568848   0.237412  4.394982e+08  \n7    16821106  134568848   0.128542  8.117359e+08  \n8    16821106  134568848   0.187411  5.567558e+08  \n9    16821106  134568848   0.184344  5.660187e+08  \n10   16821106  134568848  13.072500  7.981806e+06  \n11   16821106  134568848   2.663570  3.917380e+07  ",
      "text/html": "<div>\n<style scoped>\n    .dataframe tbody tr th:only-of-type {\n        vertical-align: middle;\n    }\n\n    .dataframe tbody tr th {\n        vertical-align: top;\n    }\n\n    .dataframe thead th {\n        text-align: right;\n    }\n</style>\n<table border=\"1\" class=\"dataframe\">\n  <thead>\n    <tr style=\"text-align: right;\">\n      <th></th>\n      <th>project</th>\n      <th>variant</th>\n      <th>pre_allocated</th>\n      <th>jsons_in</th>\n      <th>bytes_in</th>\n      <th>jsons_out</th>\n      <th>bytes_out</th>\n      <th>time</th>\n      <th>Throughput</th>\n    </tr>\n  </thead>\n  <tbody>\n    <tr>\n      <th>0</th>\n      <td>simdjson</td>\n      <td>dom</td>\n      <td>False</td>\n      <td>2097152</td>\n      <td>104342153</td>\n      <td>16821106</td>\n      <td>134568848</td>\n      <td>0.345817</td>\n      <td>3.017265e+08</td>\n    </tr>\n    <tr>\n      <th>1</th>\n      <td>simdjson</td>\n      <td>dom</td>\n      <td>True</td>\n      <td>2097152</td>\n      <td>104342153</td>\n      <td>16821106</td>\n      <td>134568848</td>\n      <td>0.274658</td>\n      <td>3.798985e+08</td>\n    </tr>\n    <tr>\n      <th>2</th>\n      <td>simdjson</td>\n      <td>no key dom</td>\n      <td>True</td>\n      <td>2097152</td>\n      <td>104342153</td>\n      <td>16821106</td>\n      <td>134568848</td>\n      <td>0.273553</td>\n      <td>3.814330e+08</td>\n    </tr>\n    <tr>\n      <th>3</th>\n      <td>RapidJSON</td>\n      <td>dom</td>\n      <td>False</td>\n      <td>2097152</td>\n      <td>104342153</td>\n      <td>16821106</td>\n      <td>134568848</td>\n      <td>0.459300</td>\n      <td>2.271765e+08</td>\n    </tr>\n    <tr>\n      <th>4</th>\n      <td>RapidJSON</td>\n      <td>in situ dom</td>\n      <td>False</td>\n      <td>2097152</td>\n      <td>104342153</td>\n      <td>16821106</td>\n      <td>134568848</td>\n      <td>0.448616</td>\n      <td>2.325868e+08</td>\n    </tr>\n    <tr>\n      <th>5</th>\n      <td>RapidJSON</td>\n      <td>sax</td>\n      <td>False</td>\n      <td>2097152</td>\n      <td>104342153</td>\n      <td>16821106</td>\n      <td>134568848</td>\n      <td>0.323005</td>\n      <td>3.230357e+08</td>\n    </tr>\n    <tr>\n      <th>6</th>\n      <td>RapidJSON</td>\n      <td>sax</td>\n      <td>True</td>\n      <td>2097152</td>\n      <td>104342153</td>\n      <td>16821106</td>\n      <td>134568848</td>\n      <td>0.237412</td>\n      <td>4.394982e+08</td>\n    </tr>\n    <tr>\n      <th>7</th>\n      <td>Custom</td>\n      <td>a</td>\n      <td>True</td>\n      <td>2097152</td>\n      <td>104342153</td>\n      <td>16821106</td>\n      <td>134568848</td>\n      <td>0.128542</td>\n      <td>8.117359e+08</td>\n    </tr>\n    <tr>\n      <th>8</th>\n      <td>Custom</td>\n      <td>b</td>\n      <td>False</td>\n      <td>2097152</td>\n      <td>104342153</td>\n      <td>16821106</td>\n      <td>134568848</td>\n      <td>0.187411</td>\n      <td>5.567558e+08</td>\n    </tr>\n    <tr>\n      <th>9</th>\n      <td>Custom</td>\n      <td>c</td>\n      <td>False</td>\n      <td>2097152</td>\n      <td>104342153</td>\n      <td>16821106</td>\n      <td>134568848</td>\n      <td>0.184344</td>\n      <td>5.660187e+08</td>\n    </tr>\n    <tr>\n      <th>10</th>\n      <td>ANTLR4</td>\n      <td>NaN</td>\n      <td>False</td>\n      <td>2097152</td>\n      <td>104342153</td>\n      <td>16821106</td>\n      <td>134568848</td>\n      <td>13.072500</td>\n      <td>7.981806e+06</td>\n    </tr>\n    <tr>\n      <th>11</th>\n      <td>Boost Spirit X3</td>\n      <td>NaN</td>\n      <td>False</td>\n      <td>2097152</td>\n      <td>104342153</td>\n      <td>16821106</td>\n      <td>134568848</td>\n      <td>2.663570</td>\n      <td>3.917380e+07</td>\n    </tr>\n  </tbody>\n</table>\n</div>"
     },
     "metadata": {},
     "output_type": "display_data"
    }
   ],
   "source": [
    "df = pd.read_csv('../experiments/sw-data/AMD_Ryzen_7_5800X.csv')\n",
    "\n",
    "df['Throughput'] = df['bytes_in'] / df['time']\n",
    "display(df)\n"
   ]
  },
  {
   "cell_type": "code",
   "execution_count": 7,
   "outputs": [],
   "source": [
    "df = df.groupby('project').agg({'Throughput':'max'})\n",
    "df.sort_values(by='Throughput', inplace=True)\n",
    "df['Throughput (GB/s)'] = df.Throughput * 1e-9"
   ],
   "metadata": {
    "collapsed": false,
    "pycharm": {
     "name": "#%%\n"
    }
   }
  },
  {
   "cell_type": "code",
   "execution_count": 8,
   "outputs": [
    {
     "data": {
      "text/plain": "<AxesSubplot:xlabel='project'>"
     },
     "execution_count": 8,
     "metadata": {},
     "output_type": "execute_result"
    },
    {
     "data": {
      "text/plain": "<Figure size 432x288 with 1 Axes>",
      "image/png": "[encoded data removed]"
     },
     "metadata": {
      "needs_background": "light"
     },
     "output_type": "display_data"
    }
   ],
   "source": [
    "df['Throughput (GB/s)'].plot.bar()"
   ],
   "metadata": {
    "collapsed": false,
    "pycharm": {
     "name": "#%%\n"
    }
   }
  },
  {
   "cell_type": "code",
   "execution_count": null,
   "outputs": [],
   "source": [],
   "metadata": {
    "collapsed": false,
    "pycharm": {
     "name": "#%%\n"
    }
   }
  }
 ],
 "metadata": {
  "kernelspec": {
   "name": "pycharm-a33ce9",
   "language": "python",
   "display_name": "PyCharm (plots)"
  },
  "language_info": {
   "codemirror_mode": {
    "name": "ipython",
    "version": 3
   },
   "file_extension": ".py",
   "mimetype": "text/x-python",
   "name": "python",
   "nbconvert_exporter": "python",
   "pygments_lexer": "ipython3",
   "version": "3.9.5"
  }
 },
 "nbformat": 4,
 "nbformat_minor": 5
}
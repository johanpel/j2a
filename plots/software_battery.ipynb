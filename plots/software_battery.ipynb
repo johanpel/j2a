{
 "cells": [
  {
   "cell_type": "code",
   "execution_count": 1,
   "id": "structured-notion",
   "metadata": {},
   "outputs": [],
   "source": [
    "import pandas as pd\n",
    "import numpy as np\n",
    "import matplotlib.pyplot as plt"
   ]
  },
  {
   "cell_type": "code",
   "execution_count": 2,
   "id": "limiting-thinking",
   "metadata": {
    "pycharm": {
     "name": "#%%\n"
    },
    "scrolled": false
   },
   "outputs": [],
   "source": [
    "pd.set_option('display.max_rows', None)\n",
    "pd.set_option('display.max_columns', None)\n",
    "pd.set_option('display.width', None)\n",
    "pd.set_option('display.max_colwidth', None)\n",
    "\n",
    "#df = pd.read_csv('../experiments/sw-data/amd.csv')\n",
    "df = pd.read_csv('../experiments/sw-data/sigmax.csv')\n",
    "#df = pd.read_csv('../experiments/sw-data/gpu_sigmax.csv')\n",
    "#df = pd.read_csv('../experiments/sw-data/debug.csv')\n",
    "#df = pd.read_csv('../experiments/sw-data/power_battery.csv')\n",
    "\n",
    "df['time'] = df['time_alloc'] + df['time_parse'] + df['time_walk']\n",
    "del df['bytes_out']\n",
    "df['throughput'] = df['bytes_in'] / df['time']\n",
    "# df.set_index(['framework', 'api', 'allocated', 'max_values', 'num_jsons'], inplace=True)\n",
    "df.sort_values(['max_values', 'throughput'], inplace=True)"
   ]
  },
  {
   "cell_type": "code",
   "execution_count": 3,
   "id": "ready-seller",
   "metadata": {
    "pycharm": {
     "name": "#%%\n"
    }
   },
   "outputs": [],
   "source": [
    "dg = df.groupby(['framework', 'max_values', 'bytes_in']).agg({'throughput':'max'})\n",
    "dg.sort_values(by=['framework', 'max_values'], inplace=True)\n",
    "dg['Throughput (GB/s)'] = dg.throughput * 1e-9\n",
    "del dg['throughput']"
   ]
  },
  {
   "cell_type": "code",
   "execution_count": 4,
   "id": "everyday-enlargement",
   "metadata": {
    "pycharm": {
     "name": "#%%\n"
    }
   },
   "outputs": [
    {
     "data": {
      "text/html": [
       "<div>\n",
       "<style scoped>\n",
       "    .dataframe tbody tr th:only-of-type {\n",
       "        vertical-align: middle;\n",
       "    }\n",
       "\n",
       "    .dataframe tbody tr th {\n",
       "        vertical-align: top;\n",
       "    }\n",
       "\n",
       "    .dataframe thead th {\n",
       "        text-align: right;\n",
       "    }\n",
       "</style>\n",
       "<table border=\"1\" class=\"dataframe\">\n",
       "  <thead>\n",
       "    <tr style=\"text-align: right;\">\n",
       "      <th></th>\n",
       "      <th>framework</th>\n",
       "      <th>cuDF</th>\n",
       "      <th>Custom</th>\n",
       "      <th>Boost Spirit.X3</th>\n",
       "      <th>RapidJSON</th>\n",
       "      <th>simdjson</th>\n",
       "    </tr>\n",
       "    <tr>\n",
       "      <th>Max. values</th>\n",
       "      <th>Bytes in</th>\n",
       "      <th></th>\n",
       "      <th></th>\n",
       "      <th></th>\n",
       "      <th></th>\n",
       "      <th></th>\n",
       "    </tr>\n",
       "  </thead>\n",
       "  <tbody>\n",
       "    <tr>\n",
       "      <th>1</th>\n",
       "      <th>536870925</th>\n",
       "      <td>0.158163</td>\n",
       "      <td>0.401608</td>\n",
       "      <td>0.489576</td>\n",
       "      <td>0.297358</td>\n",
       "      <td>0.304682</td>\n",
       "    </tr>\n",
       "    <tr>\n",
       "      <th>2</th>\n",
       "      <th>536870915</th>\n",
       "      <td>0.447739</td>\n",
       "      <td>0.363707</td>\n",
       "      <td>0.407840</td>\n",
       "      <td>0.265646</td>\n",
       "      <td>0.244169</td>\n",
       "    </tr>\n",
       "    <tr>\n",
       "      <th>4</th>\n",
       "      <th>536870933</th>\n",
       "      <td>0.463827</td>\n",
       "      <td>0.335924</td>\n",
       "      <td>0.351260</td>\n",
       "      <td>0.242563</td>\n",
       "      <td>0.247575</td>\n",
       "    </tr>\n",
       "    <tr>\n",
       "      <th>8</th>\n",
       "      <th>536870936</th>\n",
       "      <td>0.482342</td>\n",
       "      <td>0.337616</td>\n",
       "      <td>0.319109</td>\n",
       "      <td>0.223279</td>\n",
       "      <td>0.216306</td>\n",
       "    </tr>\n",
       "    <tr>\n",
       "      <th>16</th>\n",
       "      <th>536870928</th>\n",
       "      <td>0.388381</td>\n",
       "      <td>0.311110</td>\n",
       "      <td>0.274171</td>\n",
       "      <td>0.205378</td>\n",
       "      <td>0.195506</td>\n",
       "    </tr>\n",
       "    <tr>\n",
       "      <th>32</th>\n",
       "      <th>536870960</th>\n",
       "      <td>0.406421</td>\n",
       "      <td>0.313120</td>\n",
       "      <td>0.260000</td>\n",
       "      <td>0.196138</td>\n",
       "      <td>0.173384</td>\n",
       "    </tr>\n",
       "    <tr>\n",
       "      <th>64</th>\n",
       "      <th>536870929</th>\n",
       "      <td>0.459928</td>\n",
       "      <td>0.312886</td>\n",
       "      <td>0.259577</td>\n",
       "      <td>0.207204</td>\n",
       "      <td>0.175662</td>\n",
       "    </tr>\n",
       "    <tr>\n",
       "      <th>128</th>\n",
       "      <th>536871025</th>\n",
       "      <td>0.481610</td>\n",
       "      <td>0.317581</td>\n",
       "      <td>0.256450</td>\n",
       "      <td>0.195662</td>\n",
       "      <td>0.179070</td>\n",
       "    </tr>\n",
       "    <tr>\n",
       "      <th>256</th>\n",
       "      <th>536871777</th>\n",
       "      <td>0.480043</td>\n",
       "      <td>0.304578</td>\n",
       "      <td>0.246134</td>\n",
       "      <td>0.189892</td>\n",
       "      <td>0.188051</td>\n",
       "    </tr>\n",
       "    <tr>\n",
       "      <th>512</th>\n",
       "      <th>536871130</th>\n",
       "      <td>0.469966</td>\n",
       "      <td>0.311595</td>\n",
       "      <td>0.252226</td>\n",
       "      <td>0.197104</td>\n",
       "      <td>0.180728</td>\n",
       "    </tr>\n",
       "    <tr>\n",
       "      <th>1024</th>\n",
       "      <th>536871154</th>\n",
       "      <td>0.277813</td>\n",
       "      <td>0.292038</td>\n",
       "      <td>0.237009</td>\n",
       "      <td>0.193989</td>\n",
       "      <td>0.172980</td>\n",
       "    </tr>\n",
       "  </tbody>\n",
       "</table>\n",
       "</div>"
      ],
      "text/plain": [
       "framework                  cuDF    Custom  Boost Spirit.X3  RapidJSON  \\\n",
       "Max. values Bytes in                                                    \n",
       "1           536870925  0.158163  0.401608         0.489576   0.297358   \n",
       "2           536870915  0.447739  0.363707         0.407840   0.265646   \n",
       "4           536870933  0.463827  0.335924         0.351260   0.242563   \n",
       "8           536870936  0.482342  0.337616         0.319109   0.223279   \n",
       "16          536870928  0.388381  0.311110         0.274171   0.205378   \n",
       "32          536870960  0.406421  0.313120         0.260000   0.196138   \n",
       "64          536870929  0.459928  0.312886         0.259577   0.207204   \n",
       "128         536871025  0.481610  0.317581         0.256450   0.195662   \n",
       "256         536871777  0.480043  0.304578         0.246134   0.189892   \n",
       "512         536871130  0.469966  0.311595         0.252226   0.197104   \n",
       "1024        536871154  0.277813  0.292038         0.237009   0.193989   \n",
       "\n",
       "framework              simdjson  \n",
       "Max. values Bytes in             \n",
       "1           536870925  0.304682  \n",
       "2           536870915  0.244169  \n",
       "4           536870933  0.247575  \n",
       "8           536870936  0.216306  \n",
       "16          536870928  0.195506  \n",
       "32          536870960  0.173384  \n",
       "64          536870929  0.175662  \n",
       "128         536871025  0.179070  \n",
       "256         536871777  0.188051  \n",
       "512         536871130  0.180728  \n",
       "1024        536871154  0.172980  "
      ]
     },
     "metadata": {},
     "output_type": "display_data"
    }
   ],
   "source": [
    "dh = dg.unstack('framework')\n",
    "dh.index.rename(inplace=True, names=['Max. values', 'Bytes in'])\n",
    "dh = dh.droplevel(0, axis=1)\n",
    "dh = dh.reindex(dh.mean().sort_values(ascending=False).index, axis=1)\n",
    "display(dh)"
   ]
  },
  {
   "cell_type": "code",
   "execution_count": 9,
   "id": "humanitarian-daniel",
   "metadata": {
    "pycharm": {
     "name": "#%%\n"
    }
   },
   "outputs": [
    {
     "data": {
      "image/png": "[encoded data removed]",
      "text/plain": [
       "<Figure size 432x432 with 1 Axes>"
      ]
     },
     "metadata": {
      "needs_background": "light"
     },
     "output_type": "display_data"
    }
   ],
   "source": [
    "import matplotlib.pyplot as plt\n",
    "\n",
    "plt.rcParams.update({\n",
    "    \"text.usetex\": True,\n",
    "    \"font.family\": \"serif\",\n",
    "    \"font.serif\": [\"Palatino\"],\n",
    "    \"font.size\": 12\n",
    "})\n",
    "\n",
    "#dh.columns.rename(inplace=True, name='Framework')\n",
    "#dh.index.rename(inplace=True, name='Max. values')\n",
    "\n",
    "fig, ax = plt.subplots(figsize=(6, 6))\n",
    "colors = ['#dc7ec0', '#4878d0', '#6acc64', '#d65f5f', '#d5bb67']\n",
    "\n",
    "y_labels = [x[0] for x in dh.index.to_list()]\n",
    "y_ticks = np.arange(0, len(y_labels))\n",
    "\n",
    "impls = dh.columns.to_list()\n",
    "bars = []\n",
    "height = 1/(len(impls)+1)\n",
    "\n",
    "for i, impl in enumerate(impls):\n",
    "    x = dh[impl].to_numpy()\n",
    "    y = np.arange(0, len(x))\n",
    "    c = colors[i]\n",
    "    if impl == \"cuDF\":\n",
    "        c = '#AAAAAA'\n",
    "        a = 0.4\n",
    "        lw = 1.5\n",
    "        ec = '#AAAAAA'\n",
    "    else:\n",
    "        a = 1\n",
    "        lw = 0\n",
    "\n",
    "    b = ax.barh(y=y+i*height, \n",
    "                width=x, \n",
    "                height=height, \n",
    "                color=c, \n",
    "                alpha=a, \n",
    "                linewidth=lw, \n",
    "                edgecolor=ec,\n",
    "                ls='--')\n",
    "    bars.append(b)\n",
    "\n",
    "ax.set_ylim(-height, len(y_labels)-height)\n",
    "ax.set_yticks(y_ticks + 0.5)\n",
    "ax.set_yticklabels(y_labels)\n",
    "ax.set_ylabel(\"Max. no. voltage values\")\n",
    "ax.invert_yaxis()\n",
    "\n",
    "ax.set_xlabel(\"Throughput (GB/s)\")\n",
    "\n",
    "ax.grid(which='both')\n",
    "\n",
    "ax.legend(bars, impls, ncol=3, bbox_to_anchor=(0.018, 1.0), frameon=False)\n",
    "\n",
    "fig.savefig('software.pdf')"
   ]
  },
  {
   "cell_type": "code",
   "execution_count": null,
   "id": "commercial-winning",
   "metadata": {
    "pycharm": {
     "name": "#%%\n"
    }
   },
   "outputs": [],
   "source": []
  },
  {
   "cell_type": "code",
   "execution_count": null,
   "id": "choice-desert",
   "metadata": {},
   "outputs": [],
   "source": []
  }
 ],
 "metadata": {
  "kernelspec": {
   "display_name": "PyCharm (plots)",
   "language": "python",
   "name": "pycharm-a33ce9"
  },
  "language_info": {
   "codemirror_mode": {
    "name": "ipython",
    "version": 3
   },
   "file_extension": ".py",
   "mimetype": "text/x-python",
   "name": "python",
   "nbconvert_exporter": "python",
   "pygments_lexer": "ipython3",
   "version": "3.9.5"
  }
 },
 "nbformat": 4,
 "nbformat_minor": 5
}

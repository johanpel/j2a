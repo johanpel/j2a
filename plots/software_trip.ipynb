{
 "cells": [
  {
   "cell_type": "code",
   "execution_count": 1,
   "id": "structured-notion",
   "metadata": {},
   "outputs": [],
   "source": [
    "import pandas as pd\n",
    "import numpy as np\n",
    "import matplotlib.pyplot as plt"
   ]
  },
  {
   "cell_type": "code",
   "execution_count": 2,
   "id": "limiting-thinking",
   "metadata": {
    "pycharm": {
     "name": "#%%\n"
    },
    "scrolled": false
   },
   "outputs": [
    {
     "data": {
      "text/html": [
       "<div>\n",
       "<style scoped>\n",
       "    .dataframe tbody tr th:only-of-type {\n",
       "        vertical-align: middle;\n",
       "    }\n",
       "\n",
       "    .dataframe tbody tr th {\n",
       "        vertical-align: top;\n",
       "    }\n",
       "\n",
       "    .dataframe thead th {\n",
       "        text-align: right;\n",
       "    }\n",
       "</style>\n",
       "<table border=\"1\" class=\"dataframe\">\n",
       "  <thead>\n",
       "    <tr style=\"text-align: right;\">\n",
       "      <th></th>\n",
       "      <th>framework</th>\n",
       "      <th>api</th>\n",
       "      <th>allocated</th>\n",
       "      <th>num_jsons</th>\n",
       "      <th>bytes_in</th>\n",
       "      <th>time_alloc</th>\n",
       "      <th>time_parse</th>\n",
       "      <th>time_walk</th>\n",
       "      <th>max_values</th>\n",
       "      <th>time</th>\n",
       "      <th>throughput</th>\n",
       "    </tr>\n",
       "  </thead>\n",
       "  <tbody>\n",
       "    <tr>\n",
       "      <th>0</th>\n",
       "      <td>simdjson</td>\n",
       "      <td>DOM</td>\n",
       "      <td>False</td>\n",
       "      <td>47074</td>\n",
       "      <td>134220190</td>\n",
       "      <td>0.000027</td>\n",
       "      <td>9.510000e-07</td>\n",
       "      <td>3.189430e-01</td>\n",
       "      <td>NaN</td>\n",
       "      <td>0.318971</td>\n",
       "      <td>4.207918e+08</td>\n",
       "    </tr>\n",
       "    <tr>\n",
       "      <th>1</th>\n",
       "      <td>simdjson</td>\n",
       "      <td>DOM</td>\n",
       "      <td>True</td>\n",
       "      <td>47074</td>\n",
       "      <td>134220190</td>\n",
       "      <td>0.000154</td>\n",
       "      <td>7.000000e-07</td>\n",
       "      <td>2.596670e-01</td>\n",
       "      <td>NaN</td>\n",
       "      <td>0.259821</td>\n",
       "      <td>5.165865e+08</td>\n",
       "    </tr>\n",
       "    <tr>\n",
       "      <th>2</th>\n",
       "      <td>custom</td>\n",
       "      <td>NaN</td>\n",
       "      <td>True</td>\n",
       "      <td>47074</td>\n",
       "      <td>134220190</td>\n",
       "      <td>0.000128</td>\n",
       "      <td>1.377680e-01</td>\n",
       "      <td>4.000000e-08</td>\n",
       "      <td>NaN</td>\n",
       "      <td>0.137896</td>\n",
       "      <td>9.733444e+08</td>\n",
       "    </tr>\n",
       "  </tbody>\n",
       "</table>\n",
       "</div>"
      ],
      "text/plain": [
       "  framework  api  allocated  num_jsons   bytes_in  time_alloc    time_parse  \\\n",
       "0  simdjson  DOM      False      47074  134220190    0.000027  9.510000e-07   \n",
       "1  simdjson  DOM       True      47074  134220190    0.000154  7.000000e-07   \n",
       "2    custom  NaN       True      47074  134220190    0.000128  1.377680e-01   \n",
       "\n",
       "      time_walk  max_values      time    throughput  \n",
       "0  3.189430e-01         NaN  0.318971  4.207918e+08  \n",
       "1  2.596670e-01         NaN  0.259821  5.165865e+08  \n",
       "2  4.000000e-08         NaN  0.137896  9.733444e+08  "
      ]
     },
     "metadata": {},
     "output_type": "display_data"
    }
   ],
   "source": [
    "pd.set_option('display.max_rows', None)\n",
    "pd.set_option('display.max_columns', None)\n",
    "pd.set_option('display.width', None)\n",
    "pd.set_option('display.max_colwidth', None)\n",
    "\n",
    "df = pd.read_csv('../experiments/sw-data/debug.csv')\n",
    "\n",
    "df['time'] = df['time_alloc'] + df['time_parse'] + df['time_walk']\n",
    "del df['bytes_out']\n",
    "df['throughput'] = df['bytes_in'] / df['time']\n",
    "# df.set_index(['framework', 'api', 'allocated', 'max_values', 'num_jsons'], inplace=True)\n",
    "df.sort_values(['max_values', 'throughput'], inplace=True)\n",
    "display(df)"
   ]
  },
  {
   "cell_type": "code",
   "execution_count": 3,
   "id": "ready-seller",
   "metadata": {
    "pycharm": {
     "name": "#%%\n"
    }
   },
   "outputs": [
    {
     "data": {
      "text/html": [
       "<div>\n",
       "<style scoped>\n",
       "    .dataframe tbody tr th:only-of-type {\n",
       "        vertical-align: middle;\n",
       "    }\n",
       "\n",
       "    .dataframe tbody tr th {\n",
       "        vertical-align: top;\n",
       "    }\n",
       "\n",
       "    .dataframe thead th {\n",
       "        text-align: right;\n",
       "    }\n",
       "</style>\n",
       "<table border=\"1\" class=\"dataframe\">\n",
       "  <thead>\n",
       "    <tr style=\"text-align: right;\">\n",
       "      <th></th>\n",
       "      <th>Throughput (GB/s)</th>\n",
       "    </tr>\n",
       "    <tr>\n",
       "      <th>framework</th>\n",
       "      <th></th>\n",
       "    </tr>\n",
       "  </thead>\n",
       "  <tbody>\n",
       "    <tr>\n",
       "      <th>custom</th>\n",
       "      <td>0.973344</td>\n",
       "    </tr>\n",
       "    <tr>\n",
       "      <th>simdjson</th>\n",
       "      <td>0.516587</td>\n",
       "    </tr>\n",
       "  </tbody>\n",
       "</table>\n",
       "</div>"
      ],
      "text/plain": [
       "           Throughput (GB/s)\n",
       "framework                   \n",
       "custom              0.973344\n",
       "simdjson            0.516587"
      ]
     },
     "metadata": {},
     "output_type": "display_data"
    }
   ],
   "source": [
    "dg = df.groupby(['framework']).agg({'throughput':'max'})\n",
    "dg.sort_values(by=['framework'], inplace=True)\n",
    "dg['Throughput (GB/s)'] = dg.throughput * 1e-9\n",
    "del dg['throughput']\n",
    "\n",
    "display(dg)\n"
   ]
  },
  {
   "cell_type": "code",
   "execution_count": 4,
   "id": "humanitarian-daniel",
   "metadata": {
    "pycharm": {
     "name": "#%%\n"
    }
   },
   "outputs": [
    {
     "data": {
      "image/png": "[encoded data removed]",
      "text/plain": [
       "<Figure size 432x432 with 1 Axes>"
      ]
     },
     "metadata": {
      "needs_background": "light"
     },
     "output_type": "display_data"
    }
   ],
   "source": [
    "import matplotlib.pyplot as plt\n",
    "\n",
    "plt.rcParams.update({\n",
    "    \"text.usetex\": True,\n",
    "    \"font.family\": \"serif\",\n",
    "    \"font.serif\": [\"Palatino\"],\n",
    "    \"font.size\": 12\n",
    "})\n",
    "\n",
    "height = 1\n",
    "rows = dg.size\n",
    "fig, ax = plt.subplots(figsize=(6, 6))\n",
    "colors = ['#dc7ec0', '#4878d0', '#6acc64', '#d65f5f', '#d5bb67']\n",
    "y_ticks = np.arange(0, rows)\n",
    "y_labels = dg.index.to_list()\n",
    "\n",
    "\n",
    "for i,f in enumerate(dg.index):\n",
    "    b = ax.barh(y=i, height=1/rows, width=dg['Throughput (GB/s)'][f], color=colors[i])\n",
    "\n",
    "ax.set_ylim(-0.33*height, rows-1+0.33*height)\n",
    "\n",
    "ax.set_yticks(y_ticks)\n",
    "ax.set_yticklabels(y_labels)\n",
    "ax.set_ylabel('Framework')\n",
    "\n",
    "ax.set_xlabel(\"Throughput (GB/s)\")\n",
    "\n",
    "ax.grid(which='both')\n",
    "\n",
    "fig.savefig('software.pdf')"
   ]
  },
  {
   "cell_type": "code",
   "execution_count": null,
   "id": "commercial-winning",
   "metadata": {
    "pycharm": {
     "name": "#%%\n"
    }
   },
   "outputs": [],
   "source": []
  },
  {
   "cell_type": "code",
   "execution_count": null,
   "id": "choice-desert",
   "metadata": {},
   "outputs": [],
   "source": []
  }
 ],
 "metadata": {
  "kernelspec": {
   "display_name": "PyCharm (plots)",
   "language": "python",
   "name": "pycharm-a33ce9"
  },
  "language_info": {
   "codemirror_mode": {
    "name": "ipython",
    "version": 3
   },
   "file_extension": ".py",
   "mimetype": "text/x-python",
   "name": "python",
   "nbconvert_exporter": "python",
   "pygments_lexer": "ipython3",
   "version": "3.9.5"
  }
 },
 "nbformat": 4,
 "nbformat_minor": 5
}

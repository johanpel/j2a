{
 "cells": [
  {
   "cell_type": "code",
   "execution_count": 1,
   "id": "unexpected-compound",
   "metadata": {},
   "outputs": [],
   "source": [
    "import pandas as pd\n",
    "import numpy as np"
   ]
  },
  {
   "cell_type": "code",
   "execution_count": 2,
   "id": "blank-affair",
   "metadata": {},
   "outputs": [],
   "source": [
    "def load(file):\n",
    "    \"\"\"Load the experiment data from a CSV file\"\"\"\n",
    "    \n",
    "    schema = {\n",
    "        'num_threads': np.int64(),\n",
    "        'num_jsons': np.int64(),\n",
    "        'json_bytes': np.int64(),\n",
    "        'num_ipc': np.int64(),\n",
    "        'ipc_bytes': np.int64(),\n",
    "        'num_parsed': np.int64(),\n",
    "        't_parse': np.float64(),\n",
    "        't_resize': np.float64(),\n",
    "        't_serialize': np.float64(),\n",
    "        't_thread': np.float64(),\n",
    "        't_enqueue': np.float64(),\n",
    "        'status': np.int64()\n",
    "    }\n",
    "    \n",
    "    df = pd.read_csv(file, dtype=schema)\n",
    "\n",
    "    # Make sure there were no errors for converters.\n",
    "    assert(df['status'].sum() == len(df.index))\n",
    "        \n",
    "    return df"
   ]
  },
  {
   "cell_type": "code",
   "execution_count": 3,
   "id": "thirty-nomination",
   "metadata": {},
   "outputs": [],
   "source": [
    "def analyze(df):\n",
    "    \"\"\"Analyze the experiment data, deriving various metrics such as throughput.\"\"\"\n",
    "    # Calculate time spent within the thread as 'other'.\n",
    "    df['t_other'] = df['t_thread'] - df[['t_parse', 't_resize', 't_serialize', 't_enqueue']].sum(axis=1)\n",
    "    \n",
    "    # Calculate throughput\n",
    "    df['Throughput (in)'] = df['json_bytes'] / df['t_thread']\n",
    "    df['Throughput (out)'] = df['ipc_bytes'] / df['t_thread']\n",
    "    \n",
    "    return df"
   ]
  },
  {
   "cell_type": "code",
   "execution_count": 4,
   "id": "mobile-refrigerator",
   "metadata": {},
   "outputs": [],
   "source": [
    "def summarize(df):\n",
    "    \"\"\"Summarize the data from all threads into one row.\"\"\"\n",
    "    \n",
    "    row = {'Threads': df['num_threads'].sum(),\n",
    "             'JSONs': df['num_jsons'].sum(), \n",
    "             'Bytes (in)': df['json_bytes'].sum(), \n",
    "             'IPC messages': df['num_ipc'].sum(), \n",
    "             'Buffers parsed': df['num_parsed'].sum(), \n",
    "             # Take the mean of the time spent in threads:\n",
    "             'Parse time': df['t_parse'].mean(),\n",
    "             'Resize time': df['t_resize'].mean(), \n",
    "             'Serialize time': df['t_serialize'].mean(), \n",
    "             'Enqueue time': df['t_enqueue'].mean(), \n",
    "             'Other time': df['t_other'].mean(),\n",
    "             'Thread time': df['t_thread'].mean(), \n",
    "             'Throughput (in)': df['Throughput (in)'].sum(),\n",
    "             'Throughput (out)': df['Throughput (out)'].sum()}\n",
    "              \n",
    "    return row;"
   ]
  },
  {
   "cell_type": "code",
   "execution_count": 5,
   "id": "organizational-entrepreneur",
   "metadata": {
    "scrolled": true
   },
   "outputs": [
    {
     "ename": "KeyError",
     "evalue": "'Threads'",
     "output_type": "error",
     "traceback": [
      "\u001b[0;31m---------------------------------------------------------------------------\u001b[0m",
      "\u001b[0;31mKeyError\u001b[0m                                  Traceback (most recent call last)",
      "\u001b[0;32m<ipython-input-5-313f526d753a>\u001b[0m in \u001b[0;36m<module>\u001b[0;34m\u001b[0m\n\u001b[1;32m      9\u001b[0m     \u001b[0mrecords\u001b[0m\u001b[0;34m.\u001b[0m\u001b[0mappend\u001b[0m\u001b[0;34m(\u001b[0m\u001b[0msummarize\u001b[0m\u001b[0;34m(\u001b[0m\u001b[0manalyze\u001b[0m\u001b[0;34m(\u001b[0m\u001b[0mload\u001b[0m\u001b[0;34m(\u001b[0m\u001b[0mfile\u001b[0m\u001b[0;34m)\u001b[0m\u001b[0;34m)\u001b[0m\u001b[0;34m)\u001b[0m\u001b[0;34m)\u001b[0m\u001b[0;34m\u001b[0m\u001b[0;34m\u001b[0m\u001b[0m\n\u001b[1;32m     10\u001b[0m \u001b[0;34m\u001b[0m\u001b[0m\n\u001b[0;32m---> 11\u001b[0;31m \u001b[0mdf\u001b[0m \u001b[0;34m=\u001b[0m \u001b[0mpd\u001b[0m\u001b[0;34m.\u001b[0m\u001b[0mDataFrame\u001b[0m\u001b[0;34m.\u001b[0m\u001b[0mfrom_records\u001b[0m\u001b[0;34m(\u001b[0m\u001b[0mrecords\u001b[0m\u001b[0;34m)\u001b[0m\u001b[0;34m.\u001b[0m\u001b[0msort_values\u001b[0m\u001b[0;34m(\u001b[0m\u001b[0mby\u001b[0m\u001b[0;34m=\u001b[0m\u001b[0;34m'Threads'\u001b[0m\u001b[0;34m)\u001b[0m\u001b[0;34m.\u001b[0m\u001b[0mset_index\u001b[0m\u001b[0;34m(\u001b[0m\u001b[0;34m'Threads'\u001b[0m\u001b[0;34m)\u001b[0m\u001b[0;34m\u001b[0m\u001b[0;34m\u001b[0m\u001b[0m\n\u001b[0m\u001b[1;32m     12\u001b[0m \u001b[0;34m\u001b[0m\u001b[0m\n\u001b[1;32m     13\u001b[0m \u001b[0mdisplay\u001b[0m\u001b[0;34m(\u001b[0m\u001b[0mdf\u001b[0m\u001b[0;34m)\u001b[0m\u001b[0;34m\u001b[0m\u001b[0;34m\u001b[0m\u001b[0m\n",
      "\u001b[0;32m~/.local/lib/python3.9/site-packages/pandas/core/frame.py\u001b[0m in \u001b[0;36msort_values\u001b[0;34m(self, by, axis, ascending, inplace, kind, na_position, ignore_index, key)\u001b[0m\n\u001b[1;32m   5453\u001b[0m \u001b[0;34m\u001b[0m\u001b[0m\n\u001b[1;32m   5454\u001b[0m             \u001b[0mby\u001b[0m \u001b[0;34m=\u001b[0m \u001b[0mby\u001b[0m\u001b[0;34m[\u001b[0m\u001b[0;36m0\u001b[0m\u001b[0;34m]\u001b[0m\u001b[0;34m\u001b[0m\u001b[0;34m\u001b[0m\u001b[0m\n\u001b[0;32m-> 5455\u001b[0;31m             \u001b[0mk\u001b[0m \u001b[0;34m=\u001b[0m \u001b[0mself\u001b[0m\u001b[0;34m.\u001b[0m\u001b[0m_get_label_or_level_values\u001b[0m\u001b[0;34m(\u001b[0m\u001b[0mby\u001b[0m\u001b[0;34m,\u001b[0m \u001b[0maxis\u001b[0m\u001b[0;34m=\u001b[0m\u001b[0maxis\u001b[0m\u001b[0;34m)\u001b[0m\u001b[0;34m\u001b[0m\u001b[0;34m\u001b[0m\u001b[0m\n\u001b[0m\u001b[1;32m   5456\u001b[0m \u001b[0;34m\u001b[0m\u001b[0m\n\u001b[1;32m   5457\u001b[0m             \u001b[0;31m# need to rewrap column in Series to apply key function\u001b[0m\u001b[0;34m\u001b[0m\u001b[0;34m\u001b[0m\u001b[0;34m\u001b[0m\u001b[0m\n",
      "\u001b[0;32m~/.local/lib/python3.9/site-packages/pandas/core/generic.py\u001b[0m in \u001b[0;36m_get_label_or_level_values\u001b[0;34m(self, key, axis)\u001b[0m\n\u001b[1;32m   1682\u001b[0m             \u001b[0mvalues\u001b[0m \u001b[0;34m=\u001b[0m \u001b[0mself\u001b[0m\u001b[0;34m.\u001b[0m\u001b[0maxes\u001b[0m\u001b[0;34m[\u001b[0m\u001b[0maxis\u001b[0m\u001b[0;34m]\u001b[0m\u001b[0;34m.\u001b[0m\u001b[0mget_level_values\u001b[0m\u001b[0;34m(\u001b[0m\u001b[0mkey\u001b[0m\u001b[0;34m)\u001b[0m\u001b[0;34m.\u001b[0m\u001b[0m_values\u001b[0m\u001b[0;34m\u001b[0m\u001b[0;34m\u001b[0m\u001b[0m\n\u001b[1;32m   1683\u001b[0m         \u001b[0;32melse\u001b[0m\u001b[0;34m:\u001b[0m\u001b[0;34m\u001b[0m\u001b[0;34m\u001b[0m\u001b[0m\n\u001b[0;32m-> 1684\u001b[0;31m             \u001b[0;32mraise\u001b[0m \u001b[0mKeyError\u001b[0m\u001b[0;34m(\u001b[0m\u001b[0mkey\u001b[0m\u001b[0;34m)\u001b[0m\u001b[0;34m\u001b[0m\u001b[0;34m\u001b[0m\u001b[0m\n\u001b[0m\u001b[1;32m   1685\u001b[0m \u001b[0;34m\u001b[0m\u001b[0m\n\u001b[1;32m   1686\u001b[0m         \u001b[0;31m# Check for duplicates\u001b[0m\u001b[0;34m\u001b[0m\u001b[0;34m\u001b[0m\u001b[0;34m\u001b[0m\u001b[0m\n",
      "\u001b[0;31mKeyError\u001b[0m: 'Threads'"
     ]
    }
   ],
   "source": [
    "import glob\n",
    "\n",
    "csv_files = []\n",
    "for file in glob.glob(\"../experiments/data/throughput/threads/*.csv\"):\n",
    "    csv_files.append(file)\n",
    "\n",
    "records = []\n",
    "for file in csv_files:\n",
    "    records.append(summarize(analyze(load(file))))\n",
    "\n",
    "df = pd.DataFrame.from_records(records).sort_values(by='Threads').set_index('Threads')\n",
    "\n",
    "display(df)"
   ]
  },
  {
   "cell_type": "code",
   "execution_count": null,
   "id": "generic-welsh",
   "metadata": {},
   "outputs": [],
   "source": [
    "import matplotlib.pyplot as plt\n",
    "\n",
    "plt.rcParams.update({\n",
    "    \"text.usetex\": True,\n",
    "    \"font.family\": \"serif\",\n",
    "    \"font.serif\": [\"Palatino\"],\n",
    "    \"font.size\": 14\n",
    "})"
   ]
  },
  {
   "cell_type": "code",
   "execution_count": null,
   "id": "mounted-short",
   "metadata": {
    "scrolled": true
   },
   "outputs": [],
   "source": [
    "df['Throughput (in)'].plot.bar(title='Throughput vs. Thread count')"
   ]
  },
  {
   "cell_type": "code",
   "execution_count": null,
   "id": "affecting-buying",
   "metadata": {},
   "outputs": [],
   "source": [
    "df_times = df[['Parse time', 'Resize time', 'Serialize time', 'Enqueue time', 'Other time']]\n",
    "df_times.rename(columns={'Parse time': 'Parse', \n",
    "                         'Resize time': 'Resize', \n",
    "                         'Serialize time': 'Serialize', \n",
    "                         'Enqueue time': 'Enqueue', \n",
    "                         'Other time': 'Other'})\n",
    "ax = df_times.plot.bar(stacked=True, \n",
    "                        width=0.75,\n",
    "                        title='Time spent per stage',\n",
    "                        ylabel='Time (s)')"
   ]
  },
  {
   "cell_type": "code",
   "execution_count": null,
   "id": "searching-reward",
   "metadata": {},
   "outputs": [],
   "source": [
    "from pywaffle import Waffle\n",
    "\n",
    "wd = df_times.sum()\n",
    "\n",
    "plt.figure(\n",
    "    FigureClass=Waffle,\n",
    "    rows=1,\n",
    "    columns=100,\n",
    "    values=wd,\n",
    "    legend={'loc': 'upper left', 'bbox_to_anchor': (1, 1)}\n",
    ")\n",
    "\n",
    "plt.tight_layout()\n",
    "\n",
    "wd"
   ]
  },
  {
   "cell_type": "code",
   "execution_count": null,
   "id": "civil-magnitude",
   "metadata": {},
   "outputs": [],
   "source": []
  }
 ],
 "metadata": {
  "kernelspec": {
   "display_name": "Python 3",
   "language": "python",
   "name": "python3"
  },
  "language_info": {
   "codemirror_mode": {
    "name": "ipython",
    "version": 3
   },
   "file_extension": ".py",
   "mimetype": "text/x-python",
   "name": "python",
   "nbconvert_exporter": "python",
   "pygments_lexer": "ipython3",
   "version": "3.9.5"
  }
 },
 "nbformat": 4,
 "nbformat_minor": 5
}

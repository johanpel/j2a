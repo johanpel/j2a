{
 "cells": [
  {
   "cell_type": "code",
   "execution_count": 1,
   "id": "unexpected-compound",
   "metadata": {},
   "outputs": [],
   "source": [
    "import pandas as pd\n",
    "import numpy as np\n",
    "import glob"
   ]
  },
  {
   "cell_type": "code",
   "execution_count": 2,
   "id": "blank-affair",
   "metadata": {},
   "outputs": [],
   "source": [
    "def load(file):\n",
    "    \"\"\"Load the experiment data from a CSV file with converter metrics.\"\"\"\n",
    "    \n",
    "    schema = {\n",
    "        'num_threads': np.int64(),\n",
    "        'num_jsons_converted': np.int64(),\n",
    "        'num_json_bytes_converted': np.int64(),\n",
    "        'num_ipc': np.int64(),\n",
    "        'ipc_bytes': np.int64(),\n",
    "        'num_buffers_converted': np.int64(),\n",
    "        't_parse': np.float64(),\n",
    "        't_resize': np.float64(),\n",
    "        't_serialize': np.float64(),\n",
    "        't_thread': np.float64(),\n",
    "        't_enqueue': np.float64(),\n",
    "        'status': np.int64()\n",
    "    }\n",
    "    \n",
    "    df = pd.read_csv(file, dtype=schema)\n",
    "\n",
    "    # Make sure there were no errors for converters.\n",
    "    assert(df['status'].sum() == len(df.index))\n",
    "        \n",
    "    return df"
   ]
  },
  {
   "cell_type": "code",
   "execution_count": 3,
   "id": "thirty-nomination",
   "metadata": {},
   "outputs": [],
   "source": [
    "def analyze(df):\n",
    "    \"\"\"Analyze the experiment data, deriving various metrics such as throughput.\"\"\"\n",
    "    # Calculate time spent within the thread as 'other'.\n",
    "    df['t_other'] = df['t_thread'] - df[['t_parse', 't_resize', 't_serialize', 't_enqueue']].sum(axis=1)\n",
    "    \n",
    "    # Calculate throughput\n",
    "    df['Throughput (in)'] = df['num_json_bytes_converted'] / df['t_thread']\n",
    "    df['Throughput (out)'] = df['ipc_bytes'] / df['t_thread']\n",
    "    \n",
    "    df['Parse throughput (in)'] = df['num_json_bytes_converted'] / df['t_parse']\n",
    "    \n",
    "    return df"
   ]
  },
  {
   "cell_type": "code",
   "execution_count": 4,
   "id": "mobile-refrigerator",
   "metadata": {},
   "outputs": [],
   "source": [
    "def summarize(df):\n",
    "    \"\"\"Summarize the data from all threads into one row.\"\"\"\n",
    "    \n",
    "    # num_threads,num_jsons_converted,num_json_bytes_converted,num_ipc,ipc_bytes,\n",
    "    # num_buffers_converted,t_parse,t_resize,t_serialize,t_thread,t_enqueue,status\n",
    "    \n",
    "    row = {'Threads': df['num_threads'].sum(),\n",
    "             'JSONs': df['num_jsons_converted'].sum(), \n",
    "             'Bytes (in)': df['num_json_bytes_converted'].sum(), \n",
    "             'IPC messages': df['num_ipc'].sum(),\n",
    "             'IPC bytes': df['ipc_bytes'].sum(),\n",
    "             'Buffers converted': df['num_buffers_converted'].sum(), \n",
    "             # Take the mean of the time spent in threads:\n",
    "             'Parse time': df['t_parse'].mean(),\n",
    "             'Resize time': df['t_resize'].mean(), \n",
    "             'Serialize time': df['t_serialize'].mean(), \n",
    "             'Enqueue time': df['t_enqueue'].mean(), \n",
    "             'Other time': df['t_other'].mean(),\n",
    "             'Thread time': df['t_thread'].mean(), \n",
    "             'Throughput (in)': df['Throughput (in)'].sum(),\n",
    "             'Throughput (out)': df['Throughput (out)'].sum(),\n",
    "             'Parse throughput (in)': df['Parse throughput (in)'].sum()}\n",
    "              \n",
    "    return row;"
   ]
  },
  {
   "cell_type": "code",
   "execution_count": 5,
   "id": "organizational-entrepreneur",
   "metadata": {
    "scrolled": true
   },
   "outputs": [],
   "source": [
    "def get_all_data(schema, impl):\n",
    "    csv_files = []\n",
    "    for file in glob.glob(\"../experiments/data/{}/latency/threads/metrics/{}/*.csv\".format(schema, impl)):\n",
    "        csv_files.append(file)\n",
    "\n",
    "    records = []\n",
    "    for file in csv_files:\n",
    "        records.append(summarize(analyze(load(file))))\n",
    "\n",
    "\n",
    "    df = pd.DataFrame.from_records(records)\n",
    "\n",
    "    df.sort_values(by=['Threads', 'JSONs'], inplace=True)\n",
    "    return df"
   ]
  },
  {
   "cell_type": "code",
   "execution_count": 6,
   "id": "extreme-spank",
   "metadata": {},
   "outputs": [],
   "source": [
    "def get_max_throughput_for_max_size(schema, impl):\n",
    "    df = get_all_data(schema, impl)\n",
    "    df = df[df.JSONs == df.JSONs.max()]\n",
    "    #df.set_index('Threads', inplace=True)\n",
    "\n",
    "    result = df[df['Parse throughput (in)'] == df['Parse throughput (in)'].max()]\n",
    "    result.insert(0,'Implementation',impl)\n",
    "\n",
    "    return result"
   ]
  },
  {
   "cell_type": "code",
   "execution_count": 7,
   "id": "generic-welsh",
   "metadata": {},
   "outputs": [],
   "source": [
    "import matplotlib.pyplot as plt\n",
    "\n",
    "plt.rcParams.update({\n",
    "    \"text.usetex\": True,\n",
    "    \"font.family\": \"serif\",\n",
    "    \"font.serif\": [\"Palatino\"],\n",
    "    \"font.size\": 14\n",
    "})"
   ]
  },
  {
   "cell_type": "code",
   "execution_count": 8,
   "id": "mounted-short",
   "metadata": {
    "scrolled": true
   },
   "outputs": [
    {
     "data": {
      "text/html": [
       "<div>\n",
       "<style scoped>\n",
       "    .dataframe tbody tr th:only-of-type {\n",
       "        vertical-align: middle;\n",
       "    }\n",
       "\n",
       "    .dataframe tbody tr th {\n",
       "        vertical-align: top;\n",
       "    }\n",
       "\n",
       "    .dataframe thead th {\n",
       "        text-align: right;\n",
       "    }\n",
       "</style>\n",
       "<table border=\"1\" class=\"dataframe\">\n",
       "  <thead>\n",
       "    <tr style=\"text-align: right;\">\n",
       "      <th></th>\n",
       "      <th>Implementation</th>\n",
       "      <th>Threads</th>\n",
       "      <th>JSONs</th>\n",
       "      <th>Bytes (in)</th>\n",
       "      <th>IPC messages</th>\n",
       "      <th>IPC bytes</th>\n",
       "      <th>Buffers converted</th>\n",
       "      <th>Parse time</th>\n",
       "      <th>Resize time</th>\n",
       "      <th>Serialize time</th>\n",
       "      <th>Enqueue time</th>\n",
       "      <th>Other time</th>\n",
       "      <th>Thread time</th>\n",
       "      <th>Throughput (in)</th>\n",
       "      <th>Throughput (out)</th>\n",
       "      <th>Parse throughput (in)</th>\n",
       "    </tr>\n",
       "  </thead>\n",
       "  <tbody>\n",
       "    <tr>\n",
       "      <th>78</th>\n",
       "      <td>arrow</td>\n",
       "      <td>10</td>\n",
       "      <td>32075776</td>\n",
       "      <td>8589870016</td>\n",
       "      <td>320</td>\n",
       "      <td>0</td>\n",
       "      <td>320</td>\n",
       "      <td>20.600280</td>\n",
       "      <td>0.000020</td>\n",
       "      <td>0.000035</td>\n",
       "      <td>0.000057</td>\n",
       "      <td>5.761207</td>\n",
       "      <td>26.361600</td>\n",
       "      <td>3.258478e+08</td>\n",
       "      <td>0.0</td>\n",
       "      <td>4.173627e+08</td>\n",
       "    </tr>\n",
       "    <tr>\n",
       "      <th>78</th>\n",
       "      <td>custom</td>\n",
       "      <td>10</td>\n",
       "      <td>32075776</td>\n",
       "      <td>8589870016</td>\n",
       "      <td>320</td>\n",
       "      <td>0</td>\n",
       "      <td>320</td>\n",
       "      <td>3.854149</td>\n",
       "      <td>0.000023</td>\n",
       "      <td>0.000065</td>\n",
       "      <td>0.000131</td>\n",
       "      <td>1.621826</td>\n",
       "      <td>5.476194</td>\n",
       "      <td>1.568584e+09</td>\n",
       "      <td>0.0</td>\n",
       "      <td>2.231476e+09</td>\n",
       "    </tr>\n",
       "  </tbody>\n",
       "</table>\n",
       "</div>"
      ],
      "text/plain": [
       "   Implementation  Threads     JSONs  Bytes (in)  IPC messages  IPC bytes  \\\n",
       "78          arrow       10  32075776  8589870016           320          0   \n",
       "78         custom       10  32075776  8589870016           320          0   \n",
       "\n",
       "    Buffers converted  Parse time  Resize time  Serialize time  Enqueue time  \\\n",
       "78                320   20.600280     0.000020        0.000035      0.000057   \n",
       "78                320    3.854149     0.000023        0.000065      0.000131   \n",
       "\n",
       "    Other time  Thread time  Throughput (in)  Throughput (out)  \\\n",
       "78    5.761207    26.361600     3.258478e+08               0.0   \n",
       "78    1.621826     5.476194     1.568584e+09               0.0   \n",
       "\n",
       "    Parse throughput (in)  \n",
       "78           4.173627e+08  \n",
       "78           2.231476e+09  "
      ]
     },
     "metadata": {},
     "output_type": "display_data"
    },
    {
     "data": {
      "text/plain": [
       "<AxesSubplot:xlabel='Implementation'>"
      ]
     },
     "execution_count": 8,
     "metadata": {},
     "output_type": "execute_result"
    },
    {
     "data": {
      "image/png": "[encoded data removed]",
      "text/plain": [
       "<Figure size 432x288 with 1 Axes>"
      ]
     },
     "metadata": {
      "needs_background": "light"
     },
     "output_type": "display_data"
    }
   ],
   "source": [
    "d_arrow = get_max_throughput_for_max_size('battery', 'arrow')\n",
    "d_custom = get_max_throughput_for_max_size('battery', 'custom')\n",
    "#d_fpga = get_max_throughput('battery', 'fpga')\n",
    "df = pd.concat([d_arrow, d_custom]) #, d_fpga\n",
    "display(df)\n",
    "\n",
    "df = df.set_index('Implementation')\n",
    "df = df['Parse throughput (in)']\n",
    "\n",
    "df.plot.bar()"
   ]
  },
  {
   "cell_type": "code",
   "execution_count": null,
   "id": "embedded-ballet",
   "metadata": {},
   "outputs": [],
   "source": []
  }
 ],
 "metadata": {
  "kernelspec": {
   "display_name": "Python 3",
   "language": "python",
   "name": "python3"
  },
  "language_info": {
   "codemirror_mode": {
    "name": "ipython",
    "version": 3
   },
   "file_extension": ".py",
   "mimetype": "text/x-python",
   "name": "python",
   "nbconvert_exporter": "python",
   "pygments_lexer": "ipython3",
   "version": "3.9.5"
  }
 },
 "nbformat": 4,
 "nbformat_minor": 5
}

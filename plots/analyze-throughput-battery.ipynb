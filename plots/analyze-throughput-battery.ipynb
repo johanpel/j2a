{
 "cells": [
  {
   "cell_type": "code",
   "execution_count": 1,
   "id": "unexpected-compound",
   "metadata": {},
   "outputs": [
    {
     "data": {
      "text/html": [
       "<style>.container { width:100% !important; }</style>"
      ],
      "text/plain": [
       "<IPython.core.display.HTML object>"
      ]
     },
     "metadata": {},
     "output_type": "display_data"
    },
    {
     "data": {
      "text/html": [
       "<style>div.output_scroll { height: 44em; }</style>"
      ],
      "text/plain": [
       "<IPython.core.display.HTML object>"
      ]
     },
     "metadata": {},
     "output_type": "display_data"
    }
   ],
   "source": [
    "import pandas as pd\n",
    "import numpy as np\n",
    "import glob\n",
    "import os\n",
    "\n",
    "from IPython.core.display import display, HTML\n",
    "display(HTML(\"<style>.container { width:100% !important; }</style>\"))\n",
    "display(HTML(\"<style>div.output_scroll { height: 44em; }</style>\"))"
   ]
  },
  {
   "cell_type": "code",
   "execution_count": 2,
   "id": "august-point",
   "metadata": {},
   "outputs": [],
   "source": [
    "def get_meta(path):\n",
    "    \"\"\"Returns (threads, num_jsons, repeats)\"\"\"\n",
    "\n",
    "    props = os.path.splitext(os.path.basename(path))[0].split('_')\n",
    "    values = [int(x[1:]) for x in props[1:]]\n",
    "\n",
    "    return {'max_value':values[0],\n",
    "            'max_num_values':values[1],\n",
    "            'threads':values[2],\n",
    "            'input_size_approx':values[3],\n",
    "            'repeats':values[4]}"
   ]
  },
  {
   "cell_type": "code",
   "execution_count": 3,
   "id": "blank-affair",
   "metadata": {},
   "outputs": [],
   "source": [
    "def load(file):\n",
    "    \"\"\"Load the experiment data from a CSV file with converter metrics.\"\"\"\n",
    "        \n",
    "    schema = {\n",
    "        'num_threads': np.int64(),\n",
    "        'num_jsons_converted': np.int64(),\n",
    "        'num_json_bytes_converted': np.int64(),\n",
    "        'num_recordbatch_bytes': np.int64(),\n",
    "        'num_ipc': np.int64(),\n",
    "        'ipc_bytes': np.int64(),\n",
    "        'num_buffers_converted': np.int64(),\n",
    "        't_parse': np.float64(),\n",
    "        't_resize': np.float64(),\n",
    "        't_serialize': np.float64(),\n",
    "        't_thread': np.float64(),\n",
    "        't_enqueue': np.float64(),\n",
    "        'status': np.int64()\n",
    "    }\n",
    "    \n",
    "    df = pd.read_csv(file, dtype=schema)\n",
    "    \n",
    "    meta = get_meta(file)\n",
    "\n",
    "    for key, value in meta.items():  \n",
    "        df.insert(0, key, value)\n",
    "        \n",
    "    # Make sure there were no errors for converters.\n",
    "    assert(df['status'].sum() == len(df.index))\n",
    "        \n",
    "    return df"
   ]
  },
  {
   "cell_type": "code",
   "execution_count": 4,
   "id": "thirty-nomination",
   "metadata": {},
   "outputs": [],
   "source": [
    "def analyze(df):\n",
    "    \"\"\"Analyze the experiment data, deriving various metrics such as throughput.\"\"\"\n",
    "    # Calculate time spent within the thread as 'other'.\n",
    "    df['t_other'] = df['t_thread'] - df[['t_parse', 't_resize', 't_serialize', 't_enqueue']].sum(axis=1)\n",
    "    \n",
    "    # Calculate the throughput per thread\n",
    "    df['Parse throughput (in)'] = df['num_json_bytes_converted'] / df['t_parse']\n",
    "    df['Parse throughput (out)'] = df['num_recordbatch_bytes'] / df['t_parse']\n",
    "    \n",
    "    return df"
   ]
  },
  {
   "cell_type": "code",
   "execution_count": 5,
   "id": "sensitive-correction",
   "metadata": {},
   "outputs": [],
   "source": [
    "def aggr_counts(digit_counts):\n",
    "    total = 0\n",
    "    for n, d in digit_counts:\n",
    "        total = total + n    \n",
    "    return total\n",
    "            \n",
    "def avg_number_of_decimals(max_value):\n",
    "    ''' Return avg number of decimals of uniform random numbers from 0 up to max_value. '''\n",
    "    digits = 1\n",
    "    digit_counts = []\n",
    "    while (pow(10, digits) < max_value):\n",
    "        nums = pow(10,digits) - aggr_counts(digit_counts)\n",
    "        digit_counts.append((nums, digits))\n",
    "        digits = digits + 1\n",
    "\n",
    "    digit_counts.append((max_value - aggr_counts(digit_counts), digits))\n",
    "    \n",
    "    avg_num_digits = 0\n",
    "    for n, d in digit_counts:\n",
    "        avg_num_digits += n/max_value * d\n",
    "        \n",
    "    return avg_num_digits"
   ]
  },
  {
   "cell_type": "code",
   "execution_count": 6,
   "id": "mobile-refrigerator",
   "metadata": {},
   "outputs": [],
   "source": [
    "def summarize(df):\n",
    "    \"\"\"Summarize the data from one run into one row with averages.\"\"\"\n",
    "    \n",
    "    assert(len(pd.unique(df['max_value'])==1))\n",
    "    assert(len(pd.unique(df['max_num_values'])==1))\n",
    "    assert(len(pd.unique(df['threads'])==1))\n",
    "    assert(len(pd.unique(df['input_size_approx'])==1))\n",
    "    assert(df['num_threads'].sum()==pd.unique(df['threads'])[0])\n",
    "    repeats = pd.unique(df['repeats'])[0]\n",
    "    \n",
    "    # Avg. value bytes per JSON is the average array size (which is half the max, it is uniform random)\n",
    "    # times the average number of bytes for uniform random numbers between 0 and max value\n",
    "    max_value = pd.unique(df['max_value'])[0]\n",
    "    max_num_values = pd.unique(df['max_num_values'])[0]\n",
    "    value_bytes = avg_number_of_decimals(max_value) * max_num_values / 2\n",
    "    \n",
    "    row = {'Max. value': max_value,\n",
    "           'Max. number of values': max_num_values,\n",
    "           'Value bytes': value_bytes,\n",
    "           'Input size': pd.unique(df['input_size_approx'])[0],\n",
    "           'Repeats': pd.unique(df['repeats'])[0],\n",
    "           'Threads': df['num_threads'].sum(),\n",
    "           'JSONs': df['num_jsons_converted'].sum() / repeats,\n",
    "           'Bytes (in)': df['num_json_bytes_converted'].sum() / repeats,\n",
    "           'RecordBatch bytes': df['num_recordbatch_bytes'].sum() / repeats,\n",
    "           'IPC messages': df['num_ipc'].sum() / repeats,\n",
    "           'IPC bytes': df['ipc_bytes'].sum() / repeats,\n",
    "           'Buffers converted': df['num_buffers_converted'].sum() / repeats,\n",
    "           # For time, we use the max time of all threads, \n",
    "           # since the throughput is determined by the slowest thread in the pool,\n",
    "           # and they all start operating simultaneously\n",
    "           'Parse time': df['t_parse'].max(),\n",
    "           'Resize time': df['t_resize'].max(),\n",
    "           'Serialize time': df['t_serialize'].max(),\n",
    "           'Enqueue time': df['t_enqueue'].max(),\n",
    "           'Other time': df['t_other'].max(),\n",
    "           'Thread time': df['t_thread'].max(),\n",
    "           'Parse throughput (in)': df['num_json_bytes_converted'].sum() / df['t_parse'].max(),\n",
    "           'Parse throughput (out)': df['num_recordbatch_bytes'].sum() / df['t_parse'].max()}\n",
    "              \n",
    "    return row;"
   ]
  },
  {
   "cell_type": "code",
   "execution_count": 7,
   "id": "organizational-entrepreneur",
   "metadata": {
    "scrolled": true
   },
   "outputs": [],
   "source": [
    "def get_all_data(data_path, schema, impl):\n",
    "    path = '{}/{}/latency/threads/metrics/{}/'.format(data_path, schema, impl.lower())\n",
    "    csv_files = []\n",
    "    for file in glob.glob(\"{}*.csv\".format(path)):\n",
    "        csv_files.append(file)\n",
    "    print(\"Found {} files in {}\".format(len(csv_files), path))\n",
    "\n",
    "    records = []\n",
    "    for file in csv_files:\n",
    "        records.append(summarize(analyze(load(file))))\n",
    "\n",
    "\n",
    "    df = pd.DataFrame.from_records(records)\n",
    "    df.sort_values(by=['Threads', 'JSONs'], inplace=True)\n",
    "    df.insert(0,'Implementation', impl)\n",
    "    \n",
    "    # Use only max value\n",
    "    df = df[df['Max. value'] == 18446744073709551615]\n",
    "    display(pd.unique(df['Max. number of values']))\n",
    "    \n",
    "    # Print max throughput\n",
    "    display('{} max: {}'.format(impl, df['Parse throughput (in)'].max() * 1e-9))\n",
    "    # Print mean throughput of highest throughput per input size\n",
    "    display('{} mean: {}'.format(impl, df.groupby(['Implementation', 'Input size']).agg({'Parse throughput (in)': 'max'})['Parse throughput (in)'].mean() * 1e-9))\n",
    "    \n",
    "    return df"
   ]
  },
  {
   "cell_type": "code",
   "execution_count": 8,
   "id": "extreme-spank",
   "metadata": {},
   "outputs": [],
   "source": [
    "def get_max_throughput_for_max_size(df):\n",
    "    df = df[df.JSONs == df.JSONs.max()]\n",
    "    #df.set_index('Threads', inplace=True)\n",
    "\n",
    "    result = df[df['Parse throughput (in)'] == df['Parse throughput (in)'].max()]\n",
    "\n",
    "    return result"
   ]
  },
  {
   "cell_type": "code",
   "execution_count": 9,
   "id": "generic-welsh",
   "metadata": {},
   "outputs": [],
   "source": [
    "import matplotlib.pyplot as plt\n",
    "from utils import lighten_color\n",
    "\n",
    "plt.rcParams.update({\n",
    "    \"text.usetex\": True,\n",
    "    \"font.family\": \"serif\",\n",
    "    \"font.serif\": [\"Palatino\"],\n",
    "    \"font.size\": 14\n",
    "})\n",
    "\n",
    "colors = ['#4878d0', '#6acc64', '#d65f5f', '#d5bb67', '#dc7ec0', '#8c613c']\n",
    "markers = ['o', 's', 'd']"
   ]
  },
  {
   "cell_type": "code",
   "execution_count": 12,
   "id": "mounted-short",
   "metadata": {
    "scrolled": false
   },
   "outputs": [
    {
     "name": "stdout",
     "output_type": "stream",
     "text": [
      "Found 272 files in ../experiments/data-p9/battery/latency/threads/metrics/arrow/\n"
     ]
    },
    {
     "data": {
      "text/plain": [
       "array([512,  64,   8,   1])"
      ]
     },
     "metadata": {},
     "output_type": "display_data"
    },
    {
     "data": {
      "text/plain": [
       "'Arrow max: 3.970858300924027'"
      ]
     },
     "metadata": {},
     "output_type": "display_data"
    },
    {
     "data": {
      "text/plain": [
       "'Arrow mean: 2.8238226874614907'"
      ]
     },
     "metadata": {},
     "output_type": "display_data"
    },
    {
     "name": "stdout",
     "output_type": "stream",
     "text": [
      "Found 272 files in ../experiments/data-p9/battery/latency/threads/metrics/custom/\n"
     ]
    },
    {
     "data": {
      "text/plain": [
       "array([512,  64,   8,   1])"
      ]
     },
     "metadata": {},
     "output_type": "display_data"
    },
    {
     "data": {
      "text/plain": [
       "'Custom max: 18.487980194674172'"
      ]
     },
     "metadata": {},
     "output_type": "display_data"
    },
    {
     "data": {
      "text/plain": [
       "'Custom mean: 11.815579487472064'"
      ]
     },
     "metadata": {},
     "output_type": "display_data"
    },
    {
     "name": "stdout",
     "output_type": "stream",
     "text": [
      "Found 16 files in ../experiments/data-p9/battery/latency/threads/metrics/fpga/\n"
     ]
    },
    {
     "data": {
      "text/plain": [
       "array([512,  64,   8,   1])"
      ]
     },
     "metadata": {},
     "output_type": "display_data"
    },
    {
     "data": {
      "text/plain": [
       "'FPGA max: 17.92687817481353'"
      ]
     },
     "metadata": {},
     "output_type": "display_data"
    },
    {
     "data": {
      "text/plain": [
       "'FPGA mean: 16.19216639760372'"
      ]
     },
     "metadata": {},
     "output_type": "display_data"
    },
    {
     "data": {
      "text/html": [
       "<div>\n",
       "<style scoped>\n",
       "    .dataframe tbody tr th:only-of-type {\n",
       "        vertical-align: middle;\n",
       "    }\n",
       "\n",
       "    .dataframe tbody tr th {\n",
       "        vertical-align: top;\n",
       "    }\n",
       "\n",
       "    .dataframe thead th {\n",
       "        text-align: right;\n",
       "    }\n",
       "</style>\n",
       "<table border=\"1\" class=\"dataframe\">\n",
       "  <thead>\n",
       "    <tr style=\"text-align: right;\">\n",
       "      <th></th>\n",
       "      <th>Implementation</th>\n",
       "      <th>Threads</th>\n",
       "      <th>Input size</th>\n",
       "      <th>Parse throughput (in)</th>\n",
       "    </tr>\n",
       "  </thead>\n",
       "  <tbody>\n",
       "    <tr>\n",
       "      <th>0</th>\n",
       "      <td>Arrow</td>\n",
       "      <td>1</td>\n",
       "      <td>16777216</td>\n",
       "      <td>6.388852e+07</td>\n",
       "    </tr>\n",
       "    <tr>\n",
       "      <th>1</th>\n",
       "      <td>Arrow</td>\n",
       "      <td>1</td>\n",
       "      <td>134217728</td>\n",
       "      <td>6.412158e+07</td>\n",
       "    </tr>\n",
       "    <tr>\n",
       "      <th>2</th>\n",
       "      <td>Arrow</td>\n",
       "      <td>1</td>\n",
       "      <td>1073741824</td>\n",
       "      <td>6.360778e+07</td>\n",
       "    </tr>\n",
       "    <tr>\n",
       "      <th>3</th>\n",
       "      <td>Arrow</td>\n",
       "      <td>1</td>\n",
       "      <td>8589934592</td>\n",
       "      <td>6.400122e+07</td>\n",
       "    </tr>\n",
       "    <tr>\n",
       "      <th>4</th>\n",
       "      <td>Arrow</td>\n",
       "      <td>11</td>\n",
       "      <td>16777216</td>\n",
       "      <td>4.243717e+08</td>\n",
       "    </tr>\n",
       "    <tr>\n",
       "      <th>...</th>\n",
       "      <td>...</td>\n",
       "      <td>...</td>\n",
       "      <td>...</td>\n",
       "      <td>...</td>\n",
       "    </tr>\n",
       "    <tr>\n",
       "      <th>135</th>\n",
       "      <td>Custom</td>\n",
       "      <td>176</td>\n",
       "      <td>8589934592</td>\n",
       "      <td>1.719200e+10</td>\n",
       "    </tr>\n",
       "    <tr>\n",
       "      <th>136</th>\n",
       "      <td>FPGA</td>\n",
       "      <td>20</td>\n",
       "      <td>16777216</td>\n",
       "      <td>1.187991e+10</td>\n",
       "    </tr>\n",
       "    <tr>\n",
       "      <th>137</th>\n",
       "      <td>FPGA</td>\n",
       "      <td>20</td>\n",
       "      <td>134217728</td>\n",
       "      <td>1.557784e+10</td>\n",
       "    </tr>\n",
       "    <tr>\n",
       "      <th>138</th>\n",
       "      <td>FPGA</td>\n",
       "      <td>20</td>\n",
       "      <td>1073741824</td>\n",
       "      <td>1.749980e+10</td>\n",
       "    </tr>\n",
       "    <tr>\n",
       "      <th>139</th>\n",
       "      <td>FPGA</td>\n",
       "      <td>20</td>\n",
       "      <td>8589934592</td>\n",
       "      <td>1.311622e+10</td>\n",
       "    </tr>\n",
       "  </tbody>\n",
       "</table>\n",
       "<p>140 rows × 4 columns</p>\n",
       "</div>"
      ],
      "text/plain": [
       "    Implementation  Threads  Input size  Parse throughput (in)\n",
       "0            Arrow        1    16777216           6.388852e+07\n",
       "1            Arrow        1   134217728           6.412158e+07\n",
       "2            Arrow        1  1073741824           6.360778e+07\n",
       "3            Arrow        1  8589934592           6.400122e+07\n",
       "4            Arrow       11    16777216           4.243717e+08\n",
       "..             ...      ...         ...                    ...\n",
       "135         Custom      176  8589934592           1.719200e+10\n",
       "136           FPGA       20    16777216           1.187991e+10\n",
       "137           FPGA       20   134217728           1.557784e+10\n",
       "138           FPGA       20  1073741824           1.749980e+10\n",
       "139           FPGA       20  8589934592           1.311622e+10\n",
       "\n",
       "[140 rows x 4 columns]"
      ]
     },
     "metadata": {},
     "output_type": "display_data"
    },
    {
     "name": "stdout",
     "output_type": "stream",
     "text": [
      "Input sizes    : [  16777216  134217728 1073741824 8589934592]\n",
      "Threads        : [  1  11  20  22  33  44  55  66  77  88  99 110 121 132 143 154 165 176]\n",
      "Impls          : ['Arrow' 'Custom' 'FPGA']\n"
     ]
    }
   ],
   "source": [
    "d_impls = []\n",
    "\n",
    "d_impls.append(get_all_data('../experiments/data-p9', 'battery', 'Arrow'))\n",
    "d_impls.append(get_all_data('../experiments/data-p9', 'battery', 'Custom'))\n",
    "d_impls.append(get_all_data('../experiments/data-p9', 'battery', 'FPGA'))\n",
    "#d_impls.append(get_all_data('../experiments/data-sigmax', 'battery', 'Arrow'))\n",
    "#d_impls.append(get_all_data('../experiments/data-sigmax', 'battery', 'Custom'))\n",
    "#d_impls.append(get_all_data('../experiments/data-sigmax', 'battery', 'FPGA'))\n",
    "\n",
    "df = pd.concat(d_impls)\n",
    "\n",
    "#with pd.option_context('display.max_rows', None, 'display.max_columns', None):  \n",
    "\n",
    "# Average the throughput of various number of max. array sizes\n",
    "df = df.groupby(['Implementation', 'Threads', 'Input size']).agg({'Parse throughput (in)': 'mean'})\n",
    "df = df.reset_index()\n",
    "display(df)\n",
    "\n",
    "max_tp = df['Parse throughput (in)'].max()\n",
    "\n",
    "# Get all dimensions for plots\n",
    "#max_values = pd.unique(df['Max. value'])\n",
    "#max_num_values = pd.unique(df['Max. number of values'])\n",
    "#value_bytes = np.sort(pd.unique(df['Value bytes']))\n",
    "input_sizes = np.sort(pd.unique(df['Input size']))\n",
    "threads = np.sort(pd.unique(df['Threads']))\n",
    "impls = pd.unique(df['Implementation'])\n",
    "\n",
    "#print(\"Value bytes    :\", value_bytes)\n",
    "print(\"Input sizes    :\", input_sizes)\n",
    "print(\"Threads        :\", threads)\n",
    "print(\"Impls          :\", impls)"
   ]
  },
  {
   "cell_type": "code",
   "execution_count": 13,
   "id": "handy-forum",
   "metadata": {
    "scrolled": false
   },
   "outputs": [
    {
     "data": {
      "image/png": "[encoded data removed]",
      "text/plain": [
       "<Figure size 720x216 with 4 Axes>"
      ]
     },
     "metadata": {
      "needs_background": "light"
     },
     "output_type": "display_data"
    }
   ],
   "source": [
    "fig, axs = plt.subplots(ncols=len(input_sizes), figsize=[10, 3], sharey=True, sharex=True)\n",
    "\n",
    "handles = {}\n",
    "\n",
    "for xa, inps in enumerate(input_sizes):\n",
    "    ax = axs[xa]\n",
    "\n",
    "    for i, impl in enumerate(impls):\n",
    "        # Prepare plotting data\n",
    "        dl = df[(df['Input size'] == inps) & (df['Implementation'] == impl)]\n",
    "        y = dl['Parse throughput (in)'] * 1e-9\n",
    "        x = dl['Threads']\n",
    "\n",
    "        # Plot FPGA data\n",
    "        handles[impl], = ax.plot(x, y, c=lighten_color(colors[i],0.3), marker=markers[i], mfc=colors[i], mec=colors[i], linewidth=3)\n",
    "\n",
    "        if impl == 'FPGA':\n",
    "            handles['FPGA max.'] = ax.axhline(y=max(y.to_numpy()), color=lighten_color(colors[i],0.7), ls='--')\n",
    "\n",
    "\n",
    "\n",
    "    # Set inline \n",
    "    ax.annotate(\"Input size:{:.0f} MiB\".format(inps / (1<<20)), \n",
    "                xycoords='axes fraction', \n",
    "                xy=(0.05, 0.875), \n",
    "                fontsize=12,\n",
    "                backgroundcolor='#FFFFFF80')\n",
    "\n",
    "    ax.set_xticks(threads)\n",
    "    ax.set_xticklabels(threads, rotation=0, fontsize=8)\n",
    "\n",
    "    ax.set_yticks(range(0, 25,2))\n",
    "    ax.set_ylim(0, 1.25*max_tp * 1e-9)\n",
    "\n",
    "    ax.grid(which='both')\n",
    "\n",
    "    if xa == 0:\n",
    "        ax.set_xlabel('Threads / Parser instances')\n",
    "        ax.set_ylabel('Throughput (GB/s)')\n",
    "                        \n",
    "leg_handles = [v for k,v in handles.items()]\n",
    "leg_labels = [k for k,v in handles.items()]\n",
    "fig.legend(leg_handles, leg_labels, ncol=4, bbox_to_anchor=(-0.17, 0.93, 1.0, 0.1), frameon=False)\n",
    "plt.subplots_adjust(hspace = .1, wspace = .075, bottom=0.15)\n",
    "\n",
    "fig.savefig(\"throughput-battery-p9.pdf\")"
   ]
  },
  {
   "cell_type": "code",
   "execution_count": null,
   "id": "equal-diabetes",
   "metadata": {},
   "outputs": [],
   "source": []
  },
  {
   "cell_type": "code",
   "execution_count": null,
   "id": "ceramic-lawyer",
   "metadata": {},
   "outputs": [],
   "source": []
  }
 ],
 "metadata": {
  "kernelspec": {
   "display_name": "Python 3",
   "language": "python",
   "name": "python3"
  },
  "language_info": {
   "codemirror_mode": {
    "name": "ipython",
    "version": 3
   },
   "file_extension": ".py",
   "mimetype": "text/x-python",
   "name": "python",
   "nbconvert_exporter": "python",
   "pygments_lexer": "ipython3",
   "version": "3.9.5"
  }
 },
 "nbformat": 4,
 "nbformat_minor": 5
}
